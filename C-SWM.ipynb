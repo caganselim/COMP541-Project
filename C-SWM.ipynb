{
 "cells": [
  {
   "cell_type": "markdown",
   "metadata": {},
   "source": [
    "# C-SWM "
   ]
  },
  {
   "cell_type": "code",
   "execution_count": 15,
   "metadata": {},
   "outputs": [
    {
     "data": {
      "text/plain": [
       "5"
      ]
     },
     "execution_count": 15,
     "metadata": {},
     "output_type": "execute_result"
    }
   ],
   "source": [
    "#Libs\n",
    "using HDF5\n",
    "using Knet\n",
    "using Statistics: mean,std\n",
    "using Random\n",
    "using LinearAlgebra\n",
    "import Base: iterate, length\n",
    "\n",
    "\n",
    "#Datatype\n",
    "atype=KnetArray{Float32}\n",
    "\n",
    "#Includes\n",
    "include(\"utils.jl\")\n",
    "include(\"layernorm.jl\")\n",
    "include(\"encodercnn.jl\")\n",
    "include(\"encodermlp.jl\")\n",
    "include(\"gnn.jl\")\n",
    "\n",
    "#Params\n",
    "SAVE_FOLDER = \"./checkpoints\"\n",
    "NUM_STEPS = 1\n",
    "TRAIN_DATASET_PATH = \"/home/cagan/dev/datasets/C-SWM/shapes_train.h5\"\n",
    "BATCH_SIZE = 100\n",
    "SEED = 0\n",
    "NUM_OBJECTS = 5"
   ]
  },
  {
   "cell_type": "code",
   "execution_count": 2,
   "metadata": {
    "scrolled": false
   },
   "outputs": [
    {
     "name": "stdout",
     "output_type": "stream",
     "text": [
      "Dataset loaded. Building dataset indexing...\n",
      "Done.\n"
     ]
    }
   ],
   "source": [
    "dtrn = buildDataset(TRAIN_DATASET_PATH, true, BATCH_SIZE);"
   ]
  },
  {
   "cell_type": "code",
   "execution_count": 3,
   "metadata": {
    "scrolled": true
   },
   "outputs": [
    {
     "name": "stdout",
     "output_type": "stream",
     "text": [
      "(50, 50, 3, 100)\n",
      "(100,)\n",
      "(50, 50, 3, 100)\n"
     ]
    }
   ],
   "source": [
    "obs,action,next_obs = first(dtrn)\n",
    "println(size(obs))\n",
    "println(size(action))\n",
    "println(size(next_obs))"
   ]
  },
  {
   "cell_type": "code",
   "execution_count": 16,
   "metadata": {
    "scrolled": true
   },
   "outputs": [
    {
     "data": {
      "text/plain": [
       "TransitionGNN(EdgeMLP(Param{KnetArray{Float32,2}}[P(KnetArray{Float32,2}(512,4)), P(KnetArray{Float32,2}(512,512)), P(KnetArray{Float32,2}(512,512))], Param{KnetArray{Float32,1}}[P(KnetArray{Float32,1}(512)), P(KnetArray{Float32,1}(512)), P(KnetArray{Float32,1}(512))], LayerNorm(P(KnetArray{Float32,1}(512)), P(KnetArray{Float32,1}(512)), 1.0e-6), NNlib.relu), NodeMLP(Param{KnetArray{Float32,2}}[P(KnetArray{Float32,2}(512,518)), P(KnetArray{Float32,2}(512,512)), P(KnetArray{Float32,2}(2,512))], Param{KnetArray{Float32,1}}[P(KnetArray{Float32,1}(512)), P(KnetArray{Float32,1}(512)), P(KnetArray{Float32,1}(2))], LayerNorm(P(KnetArray{Float32,1}(512)), P(KnetArray{Float32,1}(512)), 1.0e-6), NNlib.relu), false, false, 4, 2, nothing, 0)"
      ]
     },
     "execution_count": 16,
     "metadata": {},
     "output_type": "execute_result"
    }
   ],
   "source": [
    "#Params\n",
    "input_ch = 3\n",
    "hidden_dim = 512\n",
    "num_objects = 5\n",
    "embedding_dim = 2\n",
    "action_dim = 4\n",
    "sigma = 0.5\n",
    "hinge = 1.0\n",
    "\n",
    "#Modules\n",
    "obj_extractor = initEncoderCNNSmall(input_ch, hidden_dim ÷ 16, num_objects, sigm, relu)\n",
    "obj_encoder = initEncoderMLP(25, hidden_dim, embedding_dim, num_objects, relu)\n",
    "gnn = initTransitionGNN(embedding_dim, hidden_dim, action_dim, num_objects, false, false, relu)"
   ]
  },
  {
   "cell_type": "code",
   "execution_count": 24,
   "metadata": {},
   "outputs": [
    {
     "data": {
      "text/plain": [
       "energy (generic function with 1 method)"
      ]
     },
     "execution_count": 24,
     "metadata": {},
     "output_type": "execute_result"
    }
   ],
   "source": [
    "function energy(state, action, next_state, trans)\n",
    "    \n",
    "    norm = 0.5 / (sigma^2)\n",
    "    \n",
    "    if trans\n",
    "        \n",
    "        diff = state - next_state\n",
    "        \n",
    "    else\n",
    "        \n",
    "        pred_trans = gnn(state,action)\n",
    "        diff = state + pred_trans - next_state\n",
    "        \n",
    "    end\n",
    "    \n",
    "    \n",
    "    return mean(norm*sum((diff.^2), dims=3),dims=2)\n",
    "    \n",
    "    \n",
    "end"
   ]
  },
  {
   "cell_type": "code",
   "execution_count": null,
   "metadata": {},
   "outputs": [],
   "source": [
    "NUM_ITER = 10000\n",
    "\n",
    "for  (k, (obs, action, next_obs)) in enumerate(dtrn)\n",
    "    \n",
    "    #Train by using contrastive loss\n",
    "    \n",
    "    # Extract objects\n",
    "    objs = obj_extractor(obs)\n",
    "    next_objs = obj_extractor(next_obs)\n",
    "    \n",
    "    # Obtain embeddings\n",
    "    state = obj_encoder(objs)\n",
    "    next_state = obj_encoder(next_objs)\n",
    "    \n",
    "    # Sample negative state across episodes at random\n",
    "    batch_size = size(obs,4)\n",
    "    perm = rand(1:batch_size)\n",
    "    neg_state = state[:,:,perm]\n",
    "    \n",
    "    # Pos loss\n",
    "    pos_loss = energy(state, action, next_state,true)\n",
    "    pos_loss = mean(pos_loss)\n",
    "    \n",
    "    println(pos_loss)\n",
    "    # Neg loss\n",
    "    zero_mat = zeros(size(pos_loss))\n",
    "    neg_loss = max(zero_mat, hinge - energy(state,action,next_state,false))\n",
    "    neg_loss = mean(neg_loss)\n",
    "        \n",
    "    loss = pos_loss + neg_loss\n",
    "    \n",
    "    \n",
    "    J = @diff loss \n",
    "    for par in params(model)\n",
    "        g = grad(J, par)\n",
    "        update!(value(par), g, par.opt)\n",
    "    end\n",
    "    \n",
    "    \n",
    "    if k > NUM_ITER\n",
    "        break\n",
    "    end\n",
    "    \n",
    "        \n",
    "end"
   ]
  },
  {
   "cell_type": "code",
   "execution_count": null,
   "metadata": {},
   "outputs": [],
   "source": []
  }
 ],
 "metadata": {
  "kernelspec": {
   "display_name": "Julia 1.3.1",
   "language": "julia",
   "name": "julia-1.3"
  },
  "language_info": {
   "file_extension": ".jl",
   "mimetype": "application/julia",
   "name": "julia",
   "version": "1.3.1"
  }
 },
 "nbformat": 4,
 "nbformat_minor": 2
}
