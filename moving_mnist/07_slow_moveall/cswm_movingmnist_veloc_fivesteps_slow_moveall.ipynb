{
 "cells": [
  {
   "cell_type": "markdown",
   "metadata": {},
   "source": [
    "# C-SWM "
   ]
  },
  {
   "cell_type": "code",
   "execution_count": 1,
   "metadata": {},
   "outputs": [],
   "source": [
    "#Libs\n",
    "import Base: iterate, length, GC\n",
    "using HDF5\n",
    "using Knet\n",
    "using Statistics: mean,std\n",
    "using Random\n",
    "using LinearAlgebra\n",
    "using Images\n",
    "using Plots\n",
    "\n",
    "#Datatype\n",
    "atype=KnetArray{Float32}\n",
    "\n",
    "#Includes\n",
    "include(\"datasets.jl\")\n",
    "include(\"cswm.jl\")"
   ]
  },
  {
   "cell_type": "markdown",
   "metadata": {},
   "source": [
    "## Model Definition"
   ]
  },
  {
   "cell_type": "code",
   "execution_count": 2,
   "metadata": {},
   "outputs": [],
   "source": [
    "#Params\n",
    "input_ch = 3\n",
    "hidden_dim = 512\n",
    "num_objects = 5\n",
    "embedding_dim = 2\n",
    "action_dim = 4\n",
    "sigma = 0.5\n",
    "hinge = 1.0;"
   ]
  },
  {
   "cell_type": "code",
   "execution_count": 3,
   "metadata": {},
   "outputs": [
    {
     "data": {
      "text/plain": [
       "MersenneTwister(UInt32[0x0000002a], Random.DSFMT.DSFMT_state(Int32[964434469, 1073036706, 1860149520, 1073503458, 1687169063, 1073083486, -399267803, 1072983952, -909620556, 1072836235  …  -293054293, 1073002412, -1300127419, 1073642642, 1917177374, -666058738, -337596527, 1830741494, 382, 0]), [0.0, 0.0, 0.0, 0.0, 0.0, 0.0, 0.0, 0.0, 0.0, 0.0  …  0.0, 0.0, 0.0, 0.0, 0.0, 0.0, 0.0, 0.0, 0.0, 0.0], UInt128[0x00000000000000000000000000000000, 0x00000000000000000000000000000000, 0x00000000000000000000000000000000, 0x00000000000000000000000000000000, 0x00000000000000000000000000000000, 0x00000000000000000000000000000000, 0x00000000000000000000000000000000, 0x00000000000000000000000000000000, 0x00000000000000000000000000000000, 0x00000000000000000000000000000000  …  0x00000000000000000000000000000000, 0x00000000000000000000000000000000, 0x00000000000000000000000000000000, 0x00000000000000000000000000000000, 0x00000000000000000000000000000000, 0x00000000000000000000000000000000, 0x00000000000000000000000000000000, 0x00000000000000000000000000000000, 0x00000000000000000000000000000000, 0x00000000000000000000000000000000], 1002, 0)"
      ]
     },
     "execution_count": 3,
     "metadata": {},
     "output_type": "execute_result"
    }
   ],
   "source": [
    "Knet.seed!(42)"
   ]
  },
  {
   "cell_type": "markdown",
   "metadata": {},
   "source": [
    "## Load the pretrained model"
   ]
  },
  {
   "cell_type": "code",
   "execution_count": 14,
   "metadata": {},
   "outputs": [
    {
     "data": {
      "text/plain": [
       "ContrastiveSWM(EncoderCNNLarge(Param{KnetArray{Float32,4}}[P(KnetArray{Float32,4}(3,3,3,32)), P(KnetArray{Float32,4}(3,3,32,32)), P(KnetArray{Float32,4}(3,3,32,32)), P(KnetArray{Float32,4}(3,3,32,5))], Param{KnetArray{Float32,4}}[P(KnetArray{Float32,4}(1,1,32,1)), P(KnetArray{Float32,4}(1,1,32,1)), P(KnetArray{Float32,4}(1,1,32,1)), P(KnetArray{Float32,4}(1,1,5,1))], Knet.sigm, NNlib.relu), EncoderMLP(Param{KnetArray{Float32,2}}[P(KnetArray{Float32,2}(512,2500)), P(KnetArray{Float32,2}(512,512)), P(KnetArray{Float32,2}(2,512))], Param{KnetArray{Float32,1}}[P(KnetArray{Float32,1}(512)), P(KnetArray{Float32,1}(512)), P(KnetArray{Float32,1}(2))], NNlib.relu), TransitionGNN(EdgeMLP(Param{KnetArray{Float32,2}}[P(KnetArray{Float32,2}(512,4)), P(KnetArray{Float32,2}(512,512)), P(KnetArray{Float32,2}(512,512))], Param{KnetArray{Float32,1}}[P(KnetArray{Float32,1}(512)), P(KnetArray{Float32,1}(512)), P(KnetArray{Float32,1}(512))], NNlib.relu), NodeMLP(Param{KnetArray{Float32,2}}[P(KnetArray{Float32,2}(512,516)), P(KnetArray{Float32,2}(512,512)), P(KnetArray{Float32,2}(2,512))], Param{KnetArray{Float32,1}}[P(KnetArray{Float32,1}(512)), P(KnetArray{Float32,1}(512)), P(KnetArray{Float32,1}(2))], NNlib.relu), false, false, 2, 2, [1 1 … 640 640; 2 3 … 638 639], 128), 0.5, 1.0)"
      ]
     },
     "execution_count": 14,
     "metadata": {},
     "output_type": "execute_result"
    }
   ],
   "source": [
    "model = Knet.load(\"model_mvmnist_slow.jld2\",\"model\")"
   ]
  },
  {
   "cell_type": "code",
   "execution_count": 5,
   "metadata": {},
   "outputs": [
    {
     "data": {
      "text/plain": [
       "5"
      ]
     },
     "execution_count": 5,
     "metadata": {},
     "output_type": "execute_result"
    }
   ],
   "source": [
    "#Params\n",
    "EVAL_DATASET_PATH = \"/home/cagan/dev/datasets/moving_mnist/movingmnist_tst_slow.h5\"\n",
    "EVAL_BATCH_SIZE = 100\n",
    "STEP_SIZE = 5"
   ]
  },
  {
   "cell_type": "code",
   "execution_count": 6,
   "metadata": {},
   "outputs": [],
   "source": [
    "dtst = buildMovingMNISTMultiStepPathDataset(EVAL_DATASET_PATH, EVAL_BATCH_SIZE,5);"
   ]
  },
  {
   "cell_type": "code",
   "execution_count": 7,
   "metadata": {},
   "outputs": [
    {
     "data": {
      "text/plain": [
       "(K32(50,50,3,100)[0.0⋯], [0.42271506786346436 0.5757743120193481 … 0.097249835729599 0.2686542868614197; -0.2228550761938095 0.5261808037757874 … 0.14578384160995483 0.6992504000663757; … ; 0.12189270555973053 0.7038083672523499 … 0.5104429721832275 0.25686293840408325; 0.5433889031410217 -0.6628894209861755 … -0.07514462620019913 -0.27565547823905945]\n",
       "\n",
       "[-0.710761547088623 0.0708666443824768 … -0.11808086931705475 0.7044579386711121; -0.5492409467697144 -0.45666012167930603 … 0.42799487709999084 0.02222311496734619; … ; 0.2906855344772339 0.31492123007774353 … -0.08657251298427582 -0.2722826600074768; 0.05790194869041443 0.2797856628894806 … 0.13601891696453094 -0.8462817072868347]\n",
       "\n",
       "[0.5648937821388245 -0.08617222309112549 … 0.03152317926287651 -0.4274105131626129; 0.35125142335891724 -0.4507250487804413 … -0.5449708104133606 0.17186452448368073; … ; 0.5404017567634583 -0.6653268337249756 … 0.424200177192688 0.061054814606904984; -0.5472274422645569 0.6597241759300232 … -0.2855413258075714 0.009939641691744328]\n",
       "\n",
       "[0.0735011026263237 0.4222215712070465 … -0.5265817642211914 0.22190603613853455; 0.14676439762115479 0.40265828371047974 … 0.5189545154571533 -0.2392003834247589; … ; -0.2794533669948578 0.32492968440055847 … 0.19081343710422516 -0.5386286973953247; 0.05575593188405037 -0.42492911219596863 … 0.6523059010505676 -0.2910344898700714]\n",
       "\n",
       "[0.057417578995227814 -0.5685365796089172 … 0.0808006003499031 0.2740509510040283; -0.5444562435150146 -0.17348776757717133 … -0.42796841263771057 -0.3786471486091614; … ; 0.4853259027004242 0.5240828990936279 … -0.3934166431427002 -0.1699906289577484; -0.07225044816732407 0.4224373698234558 … 0.3705539405345917 -0.4349946975708008], K32(50,50,3,100)[0.0⋯])"
      ]
     },
     "execution_count": 7,
     "metadata": {},
     "output_type": "execute_result"
    }
   ],
   "source": [
    "o,a,no = first(dtst)"
   ]
  },
  {
   "cell_type": "code",
   "execution_count": 15,
   "metadata": {
    "scrolled": true
   },
   "outputs": [
    {
     "name": "stdout",
     "output_type": "stream",
     "text": [
      "Processed 10 batches\n"
     ]
    },
    {
     "data": {
      "text/plain": [
       "1000×1001 Array{Int64,2}:\n",
       "   1     2   810  512  842  712  147  …  435  905  138   202   40  121  280\n",
       " 602   368   641  446  379  977  347     356   44   45   783   72    5  520\n",
       "   1     4   839  282  443  698  978     902  104  172   703  409  852  219\n",
       " 359   457   482  673  619  739  671      79  599  537   391  941  967  956\n",
       " 293     1     6  799  859  710  142     821  850  905   254  604  476  659\n",
       " 912     1     7  705  770  510  477  …   91  447  315   754  129  442   48\n",
       "   1     8   796  858  661  594  233     788  618  622   772  761  258  595\n",
       "  96     1     9  855  752  958  169     971  757  264   472  555  412  961\n",
       " 236   210   327  324  667   62  974     775  659  476   342  604  488  254\n",
       "   1    11   202  754  650  214  633     810   34  676   695  199  922  281\n",
       "   1    12   550  426  658  594  559  …  689  472  186   967  280  894  110\n",
       " 456   814   577  757  748    1   13     436  248  263   774  704  220  691\n",
       " 930    57     1   14  808  244  660     942  703  439   902  212  644  192\n",
       "   ⋮                          ⋮       ⋱         ⋮                         ⋮\n",
       " 546   737   612  162  434  313  828      23  671  559   844  795  278  286\n",
       " 471   602   563    3    1  991  215     514  930  751    53  621   45  520\n",
       " 752   755   926  178  373   96  774  …  835    4  214   754  600  946  533\n",
       "   1   993   352  876  686  813  922     587  533   91   245  750  744  754\n",
       " 570    24   462    1  994  540  383     435   15  698   226  511  280   40\n",
       "   1   995   232  671  286   44  725     587  778  391   917  465  971  472\n",
       " 804   580   951    1  996  267  118     206   51  439   370  321  285  703\n",
       "   1   997   704   54  747  424  447  …  757  961  571   577  893  524  841\n",
       " 591   953   915  433    1  998  261     666  773  166   599   26   83  644\n",
       "  65   790   310  982  854  461   32     342  459   51  1001  926  197  564\n",
       "   1  1000   108  143  131  407  687     625  103   45   277  172  652  920\n",
       " 146     1  1001  342   51  488  254     450  707  757   341  576  375  854"
      ]
     },
     "execution_count": 15,
     "metadata": {},
     "output_type": "execute_result"
    }
   ],
   "source": [
    "pred_states = Any[]\n",
    "next_states = Any[]\n",
    "\n",
    "num_samples = dtst.dataset_size\n",
    "\n",
    "for  (k, (obs, action, next_obs)) in enumerate(dtst)\n",
    "    \n",
    "    if k % 10 == 0\n",
    "        \n",
    "        println(\"Processed \", k ,\" batches\")\n",
    "        \n",
    "    end\n",
    "    #Obs => (50,50,3,100)\n",
    "    #Next obs => (50,50,3,100)\n",
    "    pred_state = model(obs,action[:,:,1]) + model(obs)\n",
    "    \n",
    "    for i in 2:STEP_SIZE\n",
    "\n",
    "        pred_state = pred_state + model.gnn(pred_state,action[:,:,i])\n",
    "        \n",
    "    end\n",
    "    \n",
    "    pred_state = Array{Float32}(pred_state)\n",
    "    next_state = Array{Float32}(model(next_obs))\n",
    "    \n",
    "    #Pred-state => (2,5,100)\n",
    "    #Next state => (2,5,100)\n",
    "    #println(pred_state)\n",
    "    #println(next_state)\n",
    "    \n",
    "    push!(pred_states, pred_state)\n",
    "    push!(next_states, next_state)\n",
    "    \n",
    "end\n",
    "\n",
    "#Pred state cat => [2,5,10000]\n",
    "#Next state cat => [2,5,10000]\n",
    "pred_states = cat(pred_states...,dims=3)\n",
    "next_states = cat(next_states...,dims=3)\n",
    "    \n",
    "#Flatten object/feature dimensions\n",
    "pred_states = mat(pred_states)  #[10,10000]\n",
    "next_states = mat(next_states)  #[10,10000]\n",
    "\n",
    "#Calculate pairwise distances\n",
    "sizes_1 = (size(pred_states)...,1)\n",
    "sizes_2 = (sizes_1[1], sizes_1[3], sizes_1[2])\n",
    "\n",
    "pred_states = reshape(pred_states, sizes_1)\n",
    "next_states = reshape(next_states, sizes_2)\n",
    "pred_states = repeat(pred_states, outer=[1,1,1000])\n",
    "next_states = repeat(next_states, outer=[1,1000,1])\n",
    "\n",
    "pairwise_distance_matrix = sum((pred_states - next_states).^2, dims=1)[1,:,:]\n",
    "\n",
    "#Augment pairwise distance matrix\n",
    "diag_elements = diag(pairwise_distance_matrix)\n",
    "pairwise_distance_matrix = hcat(diag_elements, pairwise_distance_matrix)\n",
    "\n",
    "\n",
    "labels = ones(num_samples)\n",
    "hits_at_1 = 0\n",
    "\n",
    "indices = []\n",
    "\n",
    "for i=1:1000\n",
    "    \n",
    "    row = pairwise_distance_matrix[i,:]\n",
    "    ind = sortperm(row)\n",
    "    \n",
    "    push!(indices, ind)\n",
    "\n",
    "end\n",
    "\n",
    "indices = vcat(indices'...)"
   ]
  },
  {
   "cell_type": "code",
   "execution_count": 16,
   "metadata": {},
   "outputs": [
    {
     "name": "stdout",
     "output_type": "stream",
     "text": [
      "Hits @ 1: 0.394\n"
     ]
    }
   ],
   "source": [
    "num_matches = sum(labels .== indices[:,1])\n",
    "println(\"Hits @ 1: \", num_matches/num_samples)"
   ]
  },
  {
   "cell_type": "code",
   "execution_count": 17,
   "metadata": {},
   "outputs": [
    {
     "name": "stdout",
     "output_type": "stream",
     "text": [
      "Hits @ 5: 0.767\n"
     ]
    }
   ],
   "source": [
    "num_matches = sum(labels .== indices[:,1:5])\n",
    "println(\"Hits @ 5: \", num_matches/num_samples)"
   ]
  },
  {
   "cell_type": "code",
   "execution_count": 18,
   "metadata": {},
   "outputs": [
    {
     "name": "stdout",
     "output_type": "stream",
     "text": [
      "MRR: 0.5624242845553682\n"
     ]
    }
   ],
   "source": [
    "mxval, mxindx = findmax(indices .== labels,dims=2)\n",
    "ranks = [ i[2] for i in mxindx ]\n",
    "reciprocal_ranks = 1 ./ranks\n",
    "rr_sum = sum(reciprocal_ranks)\n",
    "println(\"MRR: \", rr_sum/num_samples)"
   ]
  },
  {
   "cell_type": "code",
   "execution_count": null,
   "metadata": {},
   "outputs": [],
   "source": []
  }
 ],
 "metadata": {
  "kernelspec": {
   "display_name": "Julia 1.3.1",
   "language": "julia",
   "name": "julia-1.3"
  },
  "language_info": {
   "file_extension": ".jl",
   "mimetype": "application/julia",
   "name": "julia",
   "version": "1.3.1"
  }
 },
 "nbformat": 4,
 "nbformat_minor": 4
}
