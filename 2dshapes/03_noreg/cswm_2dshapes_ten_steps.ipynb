{
 "cells": [
  {
   "cell_type": "markdown",
   "metadata": {},
   "source": [
    "# C-SWM "
   ]
  },
  {
   "cell_type": "code",
   "execution_count": 1,
   "metadata": {},
   "outputs": [],
   "source": [
    "#Libs\n",
    "import Base: iterate, length, GC\n",
    "using HDF5\n",
    "using Knet\n",
    "using Statistics: mean,std\n",
    "using Random\n",
    "using LinearAlgebra\n",
    "using Images\n",
    "using Plots\n",
    "\n",
    "#Datatype\n",
    "atype=KnetArray{Float32}\n",
    "\n",
    "#Includes\n",
    "include(\"datasets.jl\")\n",
    "include(\"cswm.jl\")"
   ]
  },
  {
   "cell_type": "markdown",
   "metadata": {},
   "source": [
    "## Model Definition"
   ]
  },
  {
   "cell_type": "code",
   "execution_count": 2,
   "metadata": {},
   "outputs": [],
   "source": [
    "#Params\n",
    "input_ch = 3\n",
    "hidden_dim = 512\n",
    "num_objects = 5\n",
    "embedding_dim = 2\n",
    "action_dim = 4\n",
    "sigma = 0.5\n",
    "hinge = 1.0;"
   ]
  },
  {
   "cell_type": "code",
   "execution_count": 3,
   "metadata": {},
   "outputs": [
    {
     "data": {
      "text/plain": [
       "MersenneTwister(UInt32[0x0000002a], Random.DSFMT.DSFMT_state(Int32[964434469, 1073036706, 1860149520, 1073503458, 1687169063, 1073083486, -399267803, 1072983952, -909620556, 1072836235  …  -293054293, 1073002412, -1300127419, 1073642642, 1917177374, -666058738, -337596527, 1830741494, 382, 0]), [0.0, 0.0, 0.0, 0.0, 0.0, 0.0, 0.0, 0.0, 0.0, 0.0  …  0.0, 0.0, 0.0, 0.0, 0.0, 0.0, 0.0, 0.0, 0.0, 0.0], UInt128[0x00000000000000000000000000000000, 0x00000000000000000000000000000000, 0x00000000000000000000000000000000, 0x00000000000000000000000000000000, 0x00000000000000000000000000000000, 0x00000000000000000000000000000000, 0x00000000000000000000000000000000, 0x00000000000000000000000000000000, 0x00000000000000000000000000000000, 0x00000000000000000000000000000000  …  0x00000000000000000000000000000000, 0x00000000000000000000000000000000, 0x00000000000000000000000000000000, 0x00000000000000000000000000000000, 0x00000000000000000000000000000000, 0x00000000000000000000000000000000, 0x00000000000000000000000000000000, 0x00000000000000000000000000000000, 0x00000000000000000000000000000000, 0x00000000000000000000000000000000], 1002, 0)"
      ]
     },
     "execution_count": 3,
     "metadata": {},
     "output_type": "execute_result"
    }
   ],
   "source": [
    "Knet.seed!(42)"
   ]
  },
  {
   "cell_type": "markdown",
   "metadata": {},
   "source": [
    "## Load the pretrained model"
   ]
  },
  {
   "cell_type": "code",
   "execution_count": 4,
   "metadata": {},
   "outputs": [
    {
     "data": {
      "text/plain": [
       "ContrastiveSWM(EncoderCNNSmall(Param{KnetArray{Float32,4}}[P(KnetArray{Float32,4}(10,10,3,32)), P(KnetArray{Float32,4}(1,1,32,5))], Param{KnetArray{Float32,4}}[P(KnetArray{Float32,4}(1,1,32,1)), P(KnetArray{Float32,4}(1,1,5,1))], Knet.sigm, NNlib.relu), EncoderMLP(Param{KnetArray{Float32,2}}[P(KnetArray{Float32,2}(512,25)), P(KnetArray{Float32,2}(512,512)), P(KnetArray{Float32,2}(2,512))], Param{KnetArray{Float32,1}}[P(KnetArray{Float32,1}(512)), P(KnetArray{Float32,1}(512)), P(KnetArray{Float32,1}(2))], NNlib.relu), TransitionGNN(EdgeMLP(Param{KnetArray{Float32,2}}[P(KnetArray{Float32,2}(512,4)), P(KnetArray{Float32,2}(512,512)), P(KnetArray{Float32,2}(512,512))], Param{KnetArray{Float32,1}}[P(KnetArray{Float32,1}(512)), P(KnetArray{Float32,1}(512)), P(KnetArray{Float32,1}(512))], NNlib.relu), NodeMLP(Param{KnetArray{Float32,2}}[P(KnetArray{Float32,2}(512,518)), P(KnetArray{Float32,2}(512,512)), P(KnetArray{Float32,2}(2,512))], Param{KnetArray{Float32,1}}[P(KnetArray{Float32,1}(512)), P(KnetArray{Float32,1}(512)), P(KnetArray{Float32,1}(2))], NNlib.relu), false, false, 4, 2, [1 1 … 5120 5120; 2 3 … 5118 5119], 1024), 0.5, 1.0)"
      ]
     },
     "execution_count": 4,
     "metadata": {},
     "output_type": "execute_result"
    }
   ],
   "source": [
    "model = Knet.load(\"model_2dshapes_noreg.jld2\", \"model\")"
   ]
  },
  {
   "cell_type": "code",
   "execution_count": 5,
   "metadata": {},
   "outputs": [
    {
     "data": {
      "text/plain": [
       "10"
      ]
     },
     "execution_count": 5,
     "metadata": {},
     "output_type": "execute_result"
    }
   ],
   "source": [
    "#Params\n",
    "EVAL_DATASET_PATH = \"/home/cagan/dev/datasets/C-SWM/shapes_eval.h5\"\n",
    "EVAL_BATCH_SIZE = 100\n",
    "STEP_SIZE = 10"
   ]
  },
  {
   "cell_type": "code",
   "execution_count": 6,
   "metadata": {},
   "outputs": [],
   "source": [
    "dtst = buildMultiStepPathDataset(EVAL_DATASET_PATH, EVAL_BATCH_SIZE, STEP_SIZE);"
   ]
  },
  {
   "cell_type": "code",
   "execution_count": 7,
   "metadata": {
    "scrolled": true
   },
   "outputs": [
    {
     "name": "stdout",
     "output_type": "stream",
     "text": [
      "Processed 10 batches\n",
      "Processed 20 batches\n",
      "Processed 30 batches\n",
      "Processed 40 batches\n",
      "Processed 50 batches\n",
      "Processed 60 batches\n",
      "Processed 70 batches\n",
      "Processed 80 batches\n",
      "Processed 90 batches\n",
      "Processed 100 batches\n"
     ]
    },
    {
     "data": {
      "text/plain": [
       "10000×10001 Array{Int64,2}:\n",
       "    1      2  8116  9173  3973  5223  …   386  4812  4359  8483  1629  6395\n",
       " 9663      1     3  9950  7537   181     3334   740   931  7978  5160  9342\n",
       "    1      4  8018  8050  7481  9571      244  3551  7060   595  7402  9255\n",
       "    1      5  2887   772  9891  5427     9468  1245  9408  2040  7458  7886\n",
       "    1      6  9714  5024  6510  9522     8265  6367  9688  7929  7525   353\n",
       "    1      7  3627  7364  6347  8622  …  2929  1650  8487  4318  4841  4539\n",
       "    1      8  7152  1151  7310   706     8369  5759  5947  5554   514  1609\n",
       "    1      9  3268  4210  3610  3749     9451  6202  5820   469  4693  8257\n",
       "    1     10  9102  6386  5619  9115     9586  9480  2613  5329  7618  8428\n",
       "    1     11  8352  5570  9899  1445     6262  1366  3723  4100  8035  6005\n",
       "    1     12  3852  1970  7700  9259  …  2072  1893  6173  1629  7114  2839\n",
       "    1     13  6915  3541  8481  1315     4812  1853   124  7766  6901   386\n",
       "    1     14  6492  2156  7674  6402     4734  3552  2329  7886  1913  9468\n",
       "    ⋮                              ⋮  ⋱     ⋮                             ⋮\n",
       "    1   9990   145  4454  7818  1918     4856  3989  8760  6654  7694  9456\n",
       "    1   9991  2373  2246  8518     6     7060  9688  1694  6888   353  7929\n",
       "    1   9992  1267  7149  1671  5115  …  3421  1245  5943   956  9491  3628\n",
       "    1   9993  5287  4436  7533  8694     2730  4693  6320  6395  6756  6332\n",
       "    1   9994  8564   682  6260  5605     8496  7111  1044  4638  3738  1825\n",
       "    1   9995  3596   585  6847  1882     5944  8911  3421  6208  8985  1245\n",
       " 4128    660  8684  7894  3928  2754     6987  3919  2027  5816  3739  6733\n",
       "    1   9997  9374  8182  5285  1692  …  5943  3896  8985  6467  6239  1245\n",
       "    1   9998  9806  3041  5018  8440     7684  8428  6173  2072  7114  2839\n",
       "    1   9999  2558  3988  4505  6759     6237  3989  3488  7655  3829  1068\n",
       "    1  10000  9001  2572  5629  6671     8994  7620  2348  4616  9491  9342\n",
       "    1  10001  7760  8553  7196  5214     3338  2307  4061  7766  8775   514"
      ]
     },
     "execution_count": 7,
     "metadata": {},
     "output_type": "execute_result"
    }
   ],
   "source": [
    "pred_states = Any[]\n",
    "next_states = Any[]\n",
    "\n",
    "num_samples = dtst.dataset_size\n",
    "\n",
    "for  (k, (obs, action, next_obs)) in enumerate(dtst)\n",
    "    \n",
    "    if k % 10 == 0\n",
    "        \n",
    "        println(\"Processed \", k ,\" batches\")\n",
    "        \n",
    "    end\n",
    "    #Obs => (50,50,3,100)\n",
    "    #Next obs => (50,50,3,100)\n",
    "    \n",
    "    pred_state = model(obs,action[:,1])\n",
    "    \n",
    "    for i in 2:STEP_SIZE\n",
    "        \n",
    "        pred_state = pred_state + model.gnn(pred_state,action[:,i])\n",
    "        \n",
    "    end\n",
    "    \n",
    "    pred_state = Array{Float32}(pred_state)\n",
    "    next_state = Array{Float32}(model(next_obs))\n",
    "    \n",
    "    #Pred-state => (2,5,100)\n",
    "    #Next state => (2,5,100)\n",
    "    #println(pred_state)\n",
    "    #println(next_state)\n",
    "    \n",
    "    push!(pred_states, pred_state)\n",
    "    push!(next_states, next_state)\n",
    "    \n",
    "end\n",
    "\n",
    "#Pred state cat => [2,5,10000]\n",
    "#Next state cat => [2,5,10000]\n",
    "pred_states = cat(pred_states...,dims=3)\n",
    "next_states = cat(next_states...,dims=3)\n",
    "    \n",
    "#Flatten object/feature dimensions\n",
    "pred_states = mat(pred_states)  #[10,10000]\n",
    "next_states = mat(next_states)  #[10,10000]\n",
    "\n",
    "#Calculate pairwise distances\n",
    "sizes_1 = (size(pred_states)...,1)\n",
    "sizes_2 = (sizes_1[1], sizes_1[3], sizes_1[2])\n",
    "\n",
    "pred_states = reshape(pred_states, sizes_1)\n",
    "next_states = reshape(next_states, sizes_2)\n",
    "pred_states = repeat(pred_states, outer=[1,1,10000])\n",
    "next_states = repeat(next_states, outer=[1,10000,1])\n",
    "\n",
    "pairwise_distance_matrix = sum((pred_states - next_states).^2, dims=1)[1,:,:]\n",
    "\n",
    "#Augment pairwise distance matrix\n",
    "diag_elements = diag(pairwise_distance_matrix)\n",
    "pairwise_distance_matrix = hcat(diag_elements, pairwise_distance_matrix)\n",
    "\n",
    "\n",
    "labels = ones(num_samples)\n",
    "hits_at_1 = 0\n",
    "\n",
    "indices = []\n",
    "\n",
    "for i=1:10000\n",
    "    \n",
    "    row = pairwise_distance_matrix[i,:]\n",
    "    ind = sortperm(row)\n",
    "    \n",
    "    push!(indices, ind)\n",
    "\n",
    "end\n",
    "\n",
    "indices = vcat(indices'...)"
   ]
  },
  {
   "cell_type": "code",
   "execution_count": 8,
   "metadata": {},
   "outputs": [
    {
     "name": "stdout",
     "output_type": "stream",
     "text": [
      "Hits @ 1: 0.896\n"
     ]
    }
   ],
   "source": [
    "num_matches = sum(labels .== indices[:,1])\n",
    "println(\"Hits @ 1: \", num_matches/num_samples)"
   ]
  },
  {
   "cell_type": "code",
   "execution_count": 11,
   "metadata": {},
   "outputs": [
    {
     "name": "stdout",
     "output_type": "stream",
     "text": [
      "Hits @ 5: 0.9739\n"
     ]
    }
   ],
   "source": [
    "num_matches = sum(labels .== indices[:,1:5])\n",
    "println(\"Hits @ 5: \", num_matches/num_samples)"
   ]
  },
  {
   "cell_type": "code",
   "execution_count": 9,
   "metadata": {},
   "outputs": [
    {
     "name": "stdout",
     "output_type": "stream",
     "text": [
      "MRR: 0.9314177835326948\n"
     ]
    }
   ],
   "source": [
    "mxval, mxindx = findmax(indices .== labels,dims=2)\n",
    "ranks = [ i[2] for i in mxindx ]\n",
    "reciprocal_ranks = 1 ./ranks\n",
    "rr_sum = sum(reciprocal_ranks)\n",
    "println(\"MRR: \", rr_sum/num_samples)"
   ]
  }
 ],
 "metadata": {
  "kernelspec": {
   "display_name": "Julia 1.3.1",
   "language": "julia",
   "name": "julia-1.3"
  },
  "language_info": {
   "file_extension": ".jl",
   "mimetype": "application/julia",
   "name": "julia",
   "version": "1.3.1"
  }
 },
 "nbformat": 4,
 "nbformat_minor": 4
}
