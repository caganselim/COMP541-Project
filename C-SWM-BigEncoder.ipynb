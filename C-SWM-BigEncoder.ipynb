{
 "cells": [
  {
   "cell_type": "markdown",
   "metadata": {},
   "source": [
    "# C-SWM "
   ]
  },
  {
   "cell_type": "code",
   "execution_count": 9,
   "metadata": {},
   "outputs": [],
   "source": [
    "#Libs\n",
    "import Base: iterate, length, GC\n",
    "using HDF5\n",
    "using Knet\n",
    "using Statistics: mean,std\n",
    "using Random\n",
    "using LinearAlgebra\n",
    "\n",
    "#Datatype\n",
    "atype=KnetArray{Float32}\n",
    "\n",
    "#Includes\n",
    "include(\"datasets.jl\")\n",
    "include(\"cswm.jl\")"
   ]
  },
  {
   "cell_type": "markdown",
   "metadata": {},
   "source": [
    "## Model Definition"
   ]
  },
  {
   "cell_type": "code",
   "execution_count": 2,
   "metadata": {},
   "outputs": [
    {
     "data": {
      "text/plain": [
       "1.0"
      ]
     },
     "execution_count": 2,
     "metadata": {},
     "output_type": "execute_result"
    }
   ],
   "source": [
    "#Params\n",
    "input_ch = 3\n",
    "hidden_dim = 512\n",
    "num_objects = 5\n",
    "embedding_dim = 2\n",
    "action_dim = 4\n",
    "sigma = 0.5\n",
    "hinge = 1.0"
   ]
  },
  {
   "cell_type": "code",
   "execution_count": 3,
   "metadata": {},
   "outputs": [
    {
     "data": {
      "text/plain": [
       "MersenneTwister(UInt32[0x0000002a], Random.DSFMT.DSFMT_state(Int32[964434469, 1073036706, 1860149520, 1073503458, 1687169063, 1073083486, -399267803, 1072983952, -909620556, 1072836235  …  -293054293, 1073002412, -1300127419, 1073642642, 1917177374, -666058738, -337596527, 1830741494, 382, 0]), [0.0, 0.0, 0.0, 0.0, 0.0, 0.0, 0.0, 0.0, 0.0, 0.0  …  0.0, 0.0, 0.0, 0.0, 0.0, 0.0, 0.0, 0.0, 0.0, 0.0], UInt128[0x00000000000000000000000000000000, 0x00000000000000000000000000000000, 0x00000000000000000000000000000000, 0x00000000000000000000000000000000, 0x00000000000000000000000000000000, 0x00000000000000000000000000000000, 0x00000000000000000000000000000000, 0x00000000000000000000000000000000, 0x00000000000000000000000000000000, 0x00000000000000000000000000000000  …  0x00000000000000000000000000000000, 0x00000000000000000000000000000000, 0x00000000000000000000000000000000, 0x00000000000000000000000000000000, 0x00000000000000000000000000000000, 0x00000000000000000000000000000000, 0x00000000000000000000000000000000, 0x00000000000000000000000000000000, 0x00000000000000000000000000000000, 0x00000000000000000000000000000000], 1002, 0)"
      ]
     },
     "execution_count": 3,
     "metadata": {},
     "output_type": "execute_result"
    }
   ],
   "source": [
    "Knet.seed!(42)"
   ]
  },
  {
   "cell_type": "code",
   "execution_count": 10,
   "metadata": {},
   "outputs": [
    {
     "data": {
      "text/plain": [
       "ContrastiveSWM(EncoderCNNLarge(Any[P(KnetArray{Float32,4}(3,3,3,512)), P(KnetArray{Float32,4}(3,3,512,512)), P(KnetArray{Float32,4}(3,3,512,512)), P(KnetArray{Float32,4}(3,3,512,5))], Any[P(KnetArray{Float32,4}(1,1,512,1)), P(KnetArray{Float32,4}(1,1,512,1)), P(KnetArray{Float32,4}(1,1,512,1)), P(KnetArray{Float32,4}(1,1,5,1))], Any[Knet.BNMoments(0.1, nothing, nothing, zeros, ones), K32(1024)[1.0⋯], Knet.BNMoments(0.1, nothing, nothing, zeros, ones), K32(1024)[1.0⋯], Knet.BNMoments(0.1, nothing, nothing, zeros, ones), K32(1024)[1.0⋯]], Knet.sigm, NNlib.relu), EncoderMLP(Param{KnetArray{Float32,2}}[P(KnetArray{Float32,2}(512,2500)), P(KnetArray{Float32,2}(512,512)), P(KnetArray{Float32,2}(2,512))], Param{KnetArray{Float32,1}}[P(KnetArray{Float32,1}(512)), P(KnetArray{Float32,1}(512)), P(KnetArray{Float32,1}(2))], LayerNorm(P(KnetArray{Float32,1}(512)), P(KnetArray{Float32,1}(512)), 1.0e-5), NNlib.relu), TransitionGNN(EdgeMLP(Param{KnetArray{Float32,2}}[P(KnetArray{Float32,2}(512,4)), P(KnetArray{Float32,2}(512,512)), P(KnetArray{Float32,2}(512,512))], Param{KnetArray{Float32,1}}[P(KnetArray{Float32,1}(512)), P(KnetArray{Float32,1}(512)), P(KnetArray{Float32,1}(512))], LayerNorm(P(KnetArray{Float32,1}(512)), P(KnetArray{Float32,1}(512)), 1.0e-5), NNlib.relu), NodeMLP(Param{KnetArray{Float32,2}}[P(KnetArray{Float32,2}(512,518)), P(KnetArray{Float32,2}(512,512)), P(KnetArray{Float32,2}(2,512))], Param{KnetArray{Float32,1}}[P(KnetArray{Float32,1}(512)), P(KnetArray{Float32,1}(512)), P(KnetArray{Float32,1}(2))], LayerNorm(P(KnetArray{Float32,1}(512)), P(KnetArray{Float32,1}(512)), 1.0e-5), NNlib.relu), false, false, 4, 2, nothing, 0), 0.5, 1.0)"
      ]
     },
     "execution_count": 10,
     "metadata": {},
     "output_type": "execute_result"
    }
   ],
   "source": [
    "model = initContrastiveSWMLarge(input_ch, hidden_dim, num_objects, embedding_dim, action_dim, sigma, hinge)"
   ]
  },
  {
   "cell_type": "markdown",
   "metadata": {},
   "source": [
    "## Training Part"
   ]
  },
  {
   "cell_type": "code",
   "execution_count": 17,
   "metadata": {},
   "outputs": [
    {
     "name": "stdout",
     "output_type": "stream",
     "text": [
      "Dataset loaded. Building dataset indexing...\n",
      "Done.\n"
     ]
    }
   ],
   "source": [
    "TRAIN_DATASET_PATH = \"/home/cagan/dev/datasets/C-SWM/cubes_train.h5\"\n",
    "TRAIN_BATCH_SIZE = 10\n",
    "dtrn = buildStateTransitionDataset(TRAIN_DATASET_PATH, true, TRAIN_BATCH_SIZE);"
   ]
  },
  {
   "cell_type": "code",
   "execution_count": 18,
   "metadata": {},
   "outputs": [
    {
     "name": "stdout",
     "output_type": "stream",
     "text": [
      "P(KnetArray{Float32,4}(3,3,3,512))\n",
      "P(KnetArray{Float32,4}(3,3,512,512))\n",
      "P(KnetArray{Float32,4}(3,3,512,512))\n",
      "P(KnetArray{Float32,4}(3,3,512,5))\n",
      "P(KnetArray{Float32,4}(1,1,512,1))\n",
      "P(KnetArray{Float32,4}(1,1,512,1))\n",
      "P(KnetArray{Float32,4}(1,1,512,1))\n",
      "P(KnetArray{Float32,4}(1,1,5,1))\n",
      "P(KnetArray{Float32,2}(512,2500))\n",
      "P(KnetArray{Float32,2}(512,512))\n",
      "P(KnetArray{Float32,2}(2,512))\n",
      "P(KnetArray{Float32,1}(512))\n",
      "P(KnetArray{Float32,1}(512))\n",
      "P(KnetArray{Float32,1}(2))\n",
      "P(KnetArray{Float32,1}(512))\n",
      "P(KnetArray{Float32,1}(512))\n",
      "P(KnetArray{Float32,2}(512,4))\n",
      "P(KnetArray{Float32,2}(512,512))\n",
      "P(KnetArray{Float32,2}(512,512))\n",
      "P(KnetArray{Float32,1}(512))\n",
      "P(KnetArray{Float32,1}(512))\n",
      "P(KnetArray{Float32,1}(512))\n",
      "P(KnetArray{Float32,1}(512))\n",
      "P(KnetArray{Float32,1}(512))\n",
      "P(KnetArray{Float32,2}(512,518))\n",
      "P(KnetArray{Float32,2}(512,512))\n",
      "P(KnetArray{Float32,2}(2,512))\n",
      "P(KnetArray{Float32,1}(512))\n",
      "P(KnetArray{Float32,1}(512))\n",
      "P(KnetArray{Float32,1}(2))\n",
      "P(KnetArray{Float32,1}(512))\n",
      "P(KnetArray{Float32,1}(512))\n"
     ]
    }
   ],
   "source": [
    "function initopt!(model::ContrastiveSWM)\n",
    "    \n",
    "    for par in params(model)\n",
    "        par.opt = Adam(;lr=0.0005, gclip=0, beta1=0.9, beta2=0.999, eps=1e-8)\n",
    "        println(par)\n",
    "    end\n",
    "    end;\n",
    "initopt!(model)"
   ]
  },
  {
   "cell_type": "code",
   "execution_count": 19,
   "metadata": {
    "scrolled": true
   },
   "outputs": [
    {
     "name": "stdout",
     "output_type": "stream",
     "text": [
      "Starting training...\n",
      "Epoch: 1, Iter: 100/100000, Loss: 0.3124165\n",
      "Epoch: 1, Iter: 200/100000, Loss: 0.19954456\n",
      "\n",
      "Stacktrace:\n",
      " [1] \u001b[1misvalid\u001b[22m at \u001b[1m/home/cagan/.julia/packages/CUDAdrv/aBgcd/src/context.jl:43\u001b[22m [inlined]\n",
      " [2] \u001b[1mcheck_exceptions\u001b[22m\u001b[1m(\u001b[22m\u001b[1m)\u001b[22m at \u001b[1m/home/cagan/.julia/packages/CUDAnative/JfXpo/src/exceptions.jl:41\u001b[22m\n",
      " [3] \u001b[1mmaybe_initialize\u001b[22m\u001b[1m(\u001b[22m\u001b[1m)\u001b[22m at \u001b[1m/home/cagan/.julia/packages/CUDAnative/JfXpo/src/init.jl:23\u001b[22m\n",
      " [4] \u001b[1minitialize_api\u001b[22m\u001b[1m(\u001b[22m\u001b[1m)\u001b[22m at \u001b[1m/home/cagan/.julia/packages/CUDAdrv/aBgcd/src/error.jl:131\u001b[22m\n",
      " [5] \u001b[1mmacro expansion\u001b[22m at \u001b[1m/home/cagan/.julia/packages/CUDAdrv/aBgcd/src/error.jl:145\u001b[22m [inlined]\n",
      " [6] \u001b[1mcuMemFree_v2\u001b[22m at \u001b[1m/home/cagan/.julia/packages/CUDAdrv/aBgcd/src/libcuda.jl:324\u001b[22m [inlined]\n",
      " [7] \u001b[1mfree\u001b[22m at \u001b[1m/home/cagan/.julia/packages/CUDAdrv/aBgcd/src/memory.jl:78\u001b[22m [inlined]\n",
      " [8] \u001b[1mmacro expansion\u001b[22m at \u001b[1m./util.jl:212\u001b[22m [inlined]\n",
      " [9] \u001b[1mmacro expansion\u001b[22m at \u001b[1m/home/cagan/.julia/packages/CuArrays/1njKF/src/memory.jl:88\u001b[22m [inlined]\n",
      " [10] \u001b[1mmacro expansion\u001b[22m at \u001b[1m/home/cagan/.julia/packages/TimerOutputs/NvIUx/src/TimerOutput.jl:245\u001b[22m [inlined]\n",
      " [11] \u001b[1mactual_free\u001b[22m\u001b[1m(\u001b[22m::CUDAdrv.CuPtr{Nothing}\u001b[1m)\u001b[22m at \u001b[1m/home/cagan/.julia/packages/CuArrays/1njKF/src/memory.jl:87\u001b[22m\n",
      " [12] \u001b[1mactual_free\u001b[22m at \u001b[1m/home/cagan/.julia/packages/CuArrays/1njKF/src/memory/binned.jl:60\u001b[22m [inlined]\n",
      " [13] \u001b[1mmacro expansion\u001b[22m at \u001b[1m/home/cagan/.julia/packages/CuArrays/1njKF/src/memory/binned.jl:176\u001b[22m [inlined]\n",
      " [14] \u001b[1mmacro expansion\u001b[22m at \u001b[1m/home/cagan/.julia/packages/TimerOutputs/NvIUx/src/TimerOutput.jl:245\u001b[22m [inlined]\n",
      " [15] \u001b[1m#reclaim#5\u001b[22m\u001b[1m(\u001b[22m::Bool, ::typeof(CuArrays.BinnedPool.reclaim), ::Int64\u001b[1m)\u001b[22m at \u001b[1m/home/cagan/.julia/packages/CuArrays/1njKF/src/memory/binned.jl:165\u001b[22m\n",
      " [16] \u001b[1mreclaim\u001b[22m at \u001b[1m/home/cagan/.julia/packages/CuArrays/1njKF/src/memory/binned.jl:139\u001b[22m [inlined]\n",
      " [17] \u001b[1mmacro expansion\u001b[22m at \u001b[1m/home/cagan/.julia/packages/CuArrays/1njKF/src/memory/binned.jl:215\u001b[22m [inlined]\n",
      " [18] \u001b[1mmacro expansion\u001b[22m at \u001b[1m/home/cagan/.julia/packages/TimerOutputs/NvIUx/src/TimerOutput.jl:245\u001b[22m [inlined]\n",
      " [19] \u001b[1mpool_alloc\u001b[22m\u001b[1m(\u001b[22m::Int64, ::Int64\u001b[1m)\u001b[22m at \u001b[1m/home/cagan/.julia/packages/CuArrays/1njKF/src/memory/binned.jl:214\u001b[22m\n",
      " [20] \u001b[1m(::CuArrays.BinnedPool.var\"#12#13\"{Int64,Int64,Set{CuArrays.BinnedPool.Block},Array{CuArrays.BinnedPool.Block,1}})\u001b[22m\u001b[1m(\u001b[22m\u001b[1m)\u001b[22m at \u001b[1m/home/cagan/.julia/packages/CuArrays/1njKF/src/memory/binned.jl:293\u001b[22m\n",
      " [21] \u001b[1mlock\u001b[22m\u001b[1m(\u001b[22m::CuArrays.BinnedPool.var\"#12#13\"{Int64,Int64,Set{CuArrays.BinnedPool.Block},Array{CuArrays.BinnedPool.Block,1}}, ::ReentrantLock\u001b[1m)\u001b[22m at \u001b[1m./lock.jl:151\u001b[22m\n",
      " [22] \u001b[1malloc\u001b[22m\u001b[1m(\u001b[22m::Int64\u001b[1m)\u001b[22m at \u001b[1m/home/cagan/.julia/packages/CuArrays/1njKF/src/memory/binned.jl:292\u001b[22m\n",
      " [23] \u001b[1mmacro expansion\u001b[22m at \u001b[1m/home/cagan/.julia/packages/TimerOutputs/NvIUx/src/TimerOutput.jl:245\u001b[22m [inlined]\n",
      " [24] \u001b[1mmacro expansion\u001b[22m at \u001b[1m/home/cagan/.julia/packages/CuArrays/1njKF/src/memory.jl:159\u001b[22m [inlined]\n",
      " [25] \u001b[1mmacro expansion\u001b[22m at \u001b[1m./util.jl:212\u001b[22m [inlined]\n",
      " [26] \u001b[1malloc\u001b[22m at \u001b[1m/home/cagan/.julia/packages/CuArrays/1njKF/src/memory.jl:158\u001b[22m [inlined]\n",
      " [27] \u001b[1mCuArrays.CuArray{UInt8,1,P} where P\u001b[22m\u001b[1m(\u001b[22m::UndefInitializer, ::Tuple{Int64}\u001b[1m)\u001b[22m at \u001b[1m/home/cagan/.julia/packages/CuArrays/1njKF/src/array.jl:92\u001b[22m\n",
      " [28] \u001b[1mCuArray\u001b[22m at \u001b[1m/home/cagan/.julia/packages/CuArrays/1njKF/src/array.jl:100\u001b[22m [inlined]\n",
      " [29] \u001b[1mCuArray\u001b[22m at \u001b[1m/home/cagan/.julia/packages/CuArrays/1njKF/src/array.jl:101\u001b[22m [inlined]\n",
      " [30] \u001b[1mKnetPtrCu\u001b[22m\u001b[1m(\u001b[22m::Int64\u001b[1m)\u001b[22m at \u001b[1m/home/cagan/.julia/dev/Knet/src/cuarray.jl:90\u001b[22m\n",
      " [31] \u001b[1mKnetArray\u001b[22m at \u001b[1m/home/cagan/.julia/dev/Knet/src/kptr.jl:102\u001b[22m [inlined]\n",
      " [32] \u001b[1m#batchnorm4#469\u001b[22m\u001b[1m(\u001b[22m::Bool, ::Knet.BNCache, ::Knet.BNMoments, ::Float64, ::Int64, ::Int64, ::Ptr{Nothing}, ::Bool, ::Base.Iterators.Pairs{Union{},Union{},Tuple{},NamedTuple{(),Tuple{}}}, ::typeof(Knet.batchnorm4), ::KnetArray{Float32,4}, ::KnetArray{Float32,4}, ::KnetArray{Float32,4}\u001b[1m)\u001b[22m at \u001b[1m/home/cagan/.julia/dev/Knet/src/batchnorm.jl:176\u001b[22m\n",
      " [33] \u001b[1m(::Knet.var\"#kw##batchnorm4\")\u001b[22m\u001b[1m(\u001b[22m::NamedTuple{(:moments, :training, :cache),Tuple{Knet.BNMoments,Bool,Knet.BNCache}}, ::typeof(Knet.batchnorm4), ::KnetArray{Float32,4}, ::KnetArray{Float32,4}, ::KnetArray{Float32,4}\u001b[1m)\u001b[22m at \u001b[1m./none:0\u001b[22m\n",
      " [34] \u001b[1m#forw#1\u001b[22m\u001b[1m(\u001b[22m::Base.Iterators.Pairs{Symbol,Any,Tuple{Symbol,Symbol,Symbol},NamedTuple{(:moments, :training, :cache),Tuple{Knet.BNMoments,Bool,Knet.BNCache}}}, ::typeof(AutoGrad.forw), ::Function, ::KnetArray{Float32,4}, ::Vararg{Any,N} where N\u001b[1m)\u001b[22m at \u001b[1m/home/cagan/.julia/packages/AutoGrad/FSgUc/src/core.jl:66\u001b[22m\n",
      " [35] \u001b[1m#forw\u001b[22m at \u001b[1m./none:0\u001b[22m [inlined]\n",
      " [36] \u001b[1m#batchnorm4#519\u001b[22m at \u001b[1m./none:0\u001b[22m [inlined]\n",
      " [37] \u001b[1m(::Knet.var\"#kw##batchnorm4\")\u001b[22m\u001b[1m(\u001b[22m::NamedTuple{(:moments, :training, :cache),Tuple{Knet.BNMoments,Bool,Knet.BNCache}}, ::typeof(Knet.batchnorm4), ::KnetArray{Float32,4}, ::KnetArray{Float32,4}, ::AutoGrad.Result{KnetArray{Float32,4}}\u001b[1m)\u001b[22m at \u001b[1m./none:0\u001b[22m\n",
      " [38] \u001b[1m#batchnorm#464\u001b[22m\u001b[1m(\u001b[22m::Nothing, ::Base.Iterators.Pairs{Union{},Union{},Tuple{},NamedTuple{(),Tuple{}}}, ::typeof(batchnorm), ::AutoGrad.Result{KnetArray{Float32,4}}, ::Knet.BNMoments, ::KnetArray{Float32,1}\u001b[1m)\u001b[22m at \u001b[1m/home/cagan/.julia/dev/Knet/src/batchnorm.jl:95\u001b[22m\n",
      " [39] \u001b[1mbatchnorm\u001b[22m\u001b[1m(\u001b[22m::AutoGrad.Result{KnetArray{Float32,4}}, ::Knet.BNMoments, ::KnetArray{Float32,1}\u001b[1m)\u001b[22m at \u001b[1m/home/cagan/.julia/dev/Knet/src/batchnorm.jl:79\u001b[22m\n",
      " [40] \u001b[1m(::EncoderCNNLarge)\u001b[22m\u001b[1m(\u001b[22m::KnetArray{Float32,4}\u001b[1m)\u001b[22m at \u001b[1m/home/cagan/dev/kucomp/comp541/COMP541-Project/encodercnn.jl:70\u001b[22m\n",
      " [41] \u001b[1m(::ContrastiveSWM)\u001b[22m\u001b[1m(\u001b[22m::KnetArray{Float32,4}\u001b[1m)\u001b[22m at \u001b[1m/home/cagan/dev/kucomp/comp541/COMP541-Project/cswm.jl:83\u001b[22m\n",
      " [42] \u001b[1m(::ContrastiveSWM)\u001b[22m\u001b[1m(\u001b[22m::KnetArray{Float32,4}, ::Array{Int64,1}, ::KnetArray{Float32,4}\u001b[1m)\u001b[22m at \u001b[1m/home/cagan/dev/kucomp/comp541/COMP541-Project/cswm.jl:97\u001b[22m\n",
      " [43] \u001b[1m(::var\"#13#14\"{KnetArray{Float32,4},Array{Int64,1},KnetArray{Float32,4}})\u001b[22m\u001b[1m(\u001b[22m\u001b[1m)\u001b[22m at \u001b[1m/home/cagan/.julia/packages/AutoGrad/FSgUc/src/core.jl:205\u001b[22m\n",
      " [44] \u001b[1m#differentiate#3\u001b[22m\u001b[1m(\u001b[22m::Base.Iterators.Pairs{Union{},Union{},Tuple{},NamedTuple{(),Tuple{}}}, ::typeof(AutoGrad.differentiate), ::Function\u001b[1m)\u001b[22m at \u001b[1m/home/cagan/.julia/packages/AutoGrad/FSgUc/src/core.jl:144\u001b[22m\n",
      " [45] \u001b[1mdifferentiate\u001b[22m\u001b[1m(\u001b[22m::Function\u001b[1m)\u001b[22m at \u001b[1m/home/cagan/.julia/packages/AutoGrad/FSgUc/src/core.jl:135\u001b[22m\n",
      " [46] top-level scope at \u001b[1mIn[19]:16\u001b[22m\n",
      " [47] \u001b[1meval\u001b[22m at \u001b[1m./boot.jl:330\u001b[22m [inlined]\n",
      " [48] \u001b[1msoftscope_include_string\u001b[22m\u001b[1m(\u001b[22m::Module, ::String, ::String\u001b[1m)\u001b[22m at \u001b[1m/home/cagan/.julia/packages/SoftGlobalScope/cSbw5/src/SoftGlobalScope.jl:218\u001b[22m\n",
      " [49] \u001b[1mexecute_request\u001b[22m\u001b[1m(\u001b[22m::ZMQ.Socket, ::IJulia.Msg\u001b[1m)\u001b[22m at \u001b[1m/home/cagan/.julia/packages/IJulia/yLI42/src/execute_request.jl:67\u001b[22m\n",
      " [50] \u001b[1m#invokelatest#1\u001b[22m at \u001b[1m./essentials.jl:709\u001b[22m [inlined]\n",
      " [51] \u001b[1minvokelatest\u001b[22m at \u001b[1m./essentials.jl:708\u001b[22m [inlined]\n",
      " [52] \u001b[1meventloop\u001b[22m\u001b[1m(\u001b[22m::ZMQ.Socket\u001b[1m)\u001b[22m at \u001b[1m/home/cagan/.julia/packages/IJulia/yLI42/src/eventloop.jl:8\u001b[22m\n"
     ]
    },
    {
     "ename": "InterruptException",
     "evalue": "InterruptException:",
     "output_type": "error",
     "traceback": [
      "InterruptException:",
      "",
      "Stacktrace:",
      " [1] #differentiate#3(::Base.Iterators.Pairs{Union{},Union{},Tuple{},NamedTuple{(),Tuple{}}}, ::typeof(AutoGrad.differentiate), ::Function) at /home/cagan/.julia/packages/AutoGrad/FSgUc/src/core.jl:148",
      " [2] differentiate(::Function) at /home/cagan/.julia/packages/AutoGrad/FSgUc/src/core.jl:135",
      " [3] top-level scope at In[19]:16"
     ]
    }
   ],
   "source": [
    "#Verbose after x batches\n",
    "VERBOSE =  10\n",
    "\n",
    "#Define number of epochs\n",
    "NUM_EPOCHS = 100\n",
    "\n",
    "println(\"Starting training...\")\n",
    "\n",
    "for i in 1:NUM_EPOCHS\n",
    "    \n",
    "    avg_loss = 0.0\n",
    "    it = 0\n",
    "    for  (k, (obs, action, next_obs)) in enumerate(dtrn)\n",
    "\n",
    "        #Train by using contrastive loss\n",
    "        J = @diff model(obs,action,next_obs)\n",
    "        \n",
    "        for par in params(model)\n",
    "            g = grad(J, par)\n",
    "            update!(value(par), g, par.opt)\n",
    "        end\n",
    "        \n",
    "        batch_size = size(obs,4)\n",
    "\n",
    "        if k % VERBOSE == 0\n",
    "            \n",
    "            println(\"Epoch: \", i , \", Iter: \" , k*batch_size, \"/\", dtrn.num_steps, \", Loss: \", value(J))\n",
    "\n",
    "        end\n",
    "        \n",
    "        avg_loss += value(J)\n",
    "        it = k\n",
    "        \n",
    "    end\n",
    "    \n",
    "    avg_loss /= it\n",
    "    \n",
    "    println(\"Avg loss: \" , avg_loss)\n",
    "end\n",
    "\n",
    "#dtrn = nothing\n",
    "#Knet.gc()\n",
    "#GC.gc()"
   ]
  },
  {
   "cell_type": "code",
   "execution_count": null,
   "metadata": {},
   "outputs": [],
   "source": [
    "dtrn = nothing\n",
    "Knet.gc()\n",
    "GC.gc()"
   ]
  },
  {
   "cell_type": "code",
   "execution_count": null,
   "metadata": {},
   "outputs": [],
   "source": [
    "Knet.save(\"model_2dshapes_v2.jld2\", \"model\", model)"
   ]
  },
  {
   "cell_type": "markdown",
   "metadata": {},
   "source": [
    "## Evaluation"
   ]
  },
  {
   "cell_type": "code",
   "execution_count": null,
   "metadata": {},
   "outputs": [],
   "source": [
    "model = Knet.load(\"model_2dshapes.jld2\", \"model\")"
   ]
  },
  {
   "cell_type": "code",
   "execution_count": null,
   "metadata": {},
   "outputs": [],
   "source": [
    "#Params\n",
    "EVAL_DATASET_PATH = \"/home/cagan/dev/datasets/C-SWM/shapes_eval.h5\"\n",
    "EVAL_BATCH_SIZE = 100"
   ]
  },
  {
   "cell_type": "code",
   "execution_count": null,
   "metadata": {},
   "outputs": [],
   "source": [
    "dtst = buildPathDataset(EVAL_DATASET_PATH, EVAL_BATCH_SIZE);"
   ]
  },
  {
   "cell_type": "code",
   "execution_count": null,
   "metadata": {},
   "outputs": [],
   "source": [
    "obs, action,next_obs = first(dtst)"
   ]
  },
  {
   "cell_type": "code",
   "execution_count": null,
   "metadata": {
    "scrolled": true
   },
   "outputs": [],
   "source": [
    "pred_states = Any[]\n",
    "next_states = Any[]\n",
    "\n",
    "num_samples = dtst.dataset_size\n",
    "\n",
    "for  (k, (obs, action, next_obs)) in enumerate(dtst)\n",
    "    \n",
    "    if k % 10 == 0\n",
    "        \n",
    "        println(\"Processed \", k ,\" batches\")\n",
    "        \n",
    "    end\n",
    "    #Obs => (50,50,3,100)\n",
    "    #Next obs => (50,50,3,100)\n",
    "    \n",
    "    pred_state = Array{Float32}(model(obs,action) + model(obs))\n",
    "    next_state = Array{Float32}(model(next_obs))\n",
    "    \n",
    "    #Pred-state => (2,5,100)\n",
    "    #Next state => (2,5,100)\n",
    "    #println(pred_state)\n",
    "    #println(next_state)\n",
    "    \n",
    "    push!(pred_states, pred_state)\n",
    "    push!(next_states, next_state)\n",
    "    \n",
    "end\n",
    "\n",
    "#Pred state cat => [2,5,10000]\n",
    "#Next state cat => [2,5,10000]\n",
    "pred_states = cat(pred_states...,dims=3)\n",
    "next_states = cat(next_states...,dims=3)\n",
    "    \n",
    "#Flatten object/feature dimensions\n",
    "pred_states = mat(pred_states)  #[10,10000]\n",
    "next_states = mat(next_states)  #[10,10000]\n",
    "\n",
    "#Calculate pairwise distances\n",
    "sizes_1 = (size(pred_states)...,1)\n",
    "sizes_2 = (sizes_1[1], sizes_1[3], sizes_1[2])\n",
    "\n",
    "pred_states = reshape(pred_states, sizes_1)\n",
    "next_states = reshape(next_states, sizes_2)\n",
    "pred_states = repeat(pred_states, outer=[1,1,10000])\n",
    "next_states = repeat(next_states, outer=[1,10000,1])\n",
    "\n",
    "pairwise_distance_matrix = sum((pred_states - next_states).^2, dims=1)[1,:,:]\n",
    "\n",
    "#Augment pairwise distance matrix\n",
    "diag_elements = diag(pairwise_distance_matrix)\n",
    "pairwise_distance_matrix = hcat(diag_elements, pairwise_distance_matrix)\n",
    "\n",
    "\n",
    "labels = ones(num_samples)\n",
    "hits_at_1 = 0\n",
    "\n",
    "indices = []\n",
    "\n",
    "for i=1:10000\n",
    "    \n",
    "    row = pairwise_distance_matrix[i,:]\n",
    "    ind = sortperm(row)\n",
    "    \n",
    "    push!(indices, ind)\n",
    "\n",
    "end\n",
    "\n",
    "indices = vcat(indices'...)"
   ]
  },
  {
   "cell_type": "code",
   "execution_count": null,
   "metadata": {},
   "outputs": [],
   "source": [
    "num_matches = sum(labels .== indices[:,1])\n",
    "println(\"Hits @ 1: \", num_matches/num_samples)"
   ]
  },
  {
   "cell_type": "code",
   "execution_count": null,
   "metadata": {},
   "outputs": [],
   "source": [
    "mxval, mxindx = findmax(indices .== labels,dims=2)\n",
    "ranks = [ i[2] for i in mxindx ]\n",
    "reciprocal_ranks = 1 ./ranks\n",
    "rr_sum = sum(reciprocal_ranks)\n",
    "println(\"MRR: \", rr_sum/num_samples)"
   ]
  }
 ],
 "metadata": {
  "kernelspec": {
   "display_name": "Julia 1.3.1",
   "language": "julia",
   "name": "julia-1.3"
  },
  "language_info": {
   "file_extension": ".jl",
   "mimetype": "application/julia",
   "name": "julia",
   "version": "1.3.1"
  }
 },
 "nbformat": 4,
 "nbformat_minor": 4
}
