{
 "cells": [
  {
   "cell_type": "markdown",
   "metadata": {},
   "source": [
    "# C-SWM "
   ]
  },
  {
   "cell_type": "code",
   "execution_count": 2,
   "metadata": {},
   "outputs": [],
   "source": [
    "#Libs\n",
    "import Base: iterate, length, GC\n",
    "using HDF5\n",
    "using Knet\n",
    "using Statistics: mean,std\n",
    "using Random\n",
    "using LinearAlgebra\n",
    "\n",
    "#Datatype\n",
    "atype=KnetArray{Float32}\n",
    "\n",
    "#Includes\n",
    "include(\"datasets.jl\")\n",
    "include(\"cswm.jl\")"
   ]
  },
  {
   "cell_type": "markdown",
   "metadata": {},
   "source": [
    "## Model Definition"
   ]
  },
  {
   "cell_type": "code",
   "execution_count": 9,
   "metadata": {},
   "outputs": [
    {
     "data": {
      "text/plain": [
       "1.0"
      ]
     },
     "execution_count": 9,
     "metadata": {},
     "output_type": "execute_result"
    }
   ],
   "source": [
    "#Params\n",
    "input_ch = 3\n",
    "hidden_dim = 512\n",
    "num_objects = 5\n",
    "embedding_dim = 2\n",
    "action_dim = 4\n",
    "sigma = 0.5\n",
    "hinge = 1.0"
   ]
  },
  {
   "cell_type": "code",
   "execution_count": 41,
   "metadata": {},
   "outputs": [
    {
     "data": {
      "text/plain": [
       "ContrastiveSWM(EncoderCNNSmall(Any[P(KnetArray{Float32,4}(10,10,3,32)), P(KnetArray{Float32,4}(1,1,32,5))], Any[Knet.BNMoments(0.1, nothing, nothing, zeros, ones), K32(64)[1.0⋯]], Knet.sigm, NNlib.relu), EncoderMLP(Param{KnetArray{Float32,2}}[P(KnetArray{Float32,2}(512,25)), P(KnetArray{Float32,2}(512,512)), P(KnetArray{Float32,2}(2,512))], Param{KnetArray{Float32,1}}[P(KnetArray{Float32,1}(512)), P(KnetArray{Float32,1}(512)), P(KnetArray{Float32,1}(2))], LayerNorm(P(KnetArray{Float32,1}(512)), P(KnetArray{Float32,1}(512)), 1.0e-6), NNlib.relu), TransitionGNN(EdgeMLP(Param{KnetArray{Float32,2}}[P(KnetArray{Float32,2}(512,4)), P(KnetArray{Float32,2}(512,512)), P(KnetArray{Float32,2}(512,512))], Param{KnetArray{Float32,1}}[P(KnetArray{Float32,1}(512)), P(KnetArray{Float32,1}(512)), P(KnetArray{Float32,1}(512))], LayerNorm(P(KnetArray{Float32,1}(512)), P(KnetArray{Float32,1}(512)), 1.0e-6), NNlib.relu), NodeMLP(Param{KnetArray{Float32,2}}[P(KnetArray{Float32,2}(512,518)), P(KnetArray{Float32,2}(512,512)), P(KnetArray{Float32,2}(2,512))], Param{KnetArray{Float32,1}}[P(KnetArray{Float32,1}(512)), P(KnetArray{Float32,1}(512)), P(KnetArray{Float32,1}(2))], LayerNorm(P(KnetArray{Float32,1}(512)), P(KnetArray{Float32,1}(512)), 1.0e-6), NNlib.relu), false, false, 4, 2, nothing, 0), 0.5, 1.0)"
      ]
     },
     "execution_count": 41,
     "metadata": {},
     "output_type": "execute_result"
    }
   ],
   "source": [
    "model = initContrastiveSWMSmall(input_ch, hidden_dim, num_objects, embedding_dim, action_dim, sigma, hinge)"
   ]
  },
  {
   "cell_type": "markdown",
   "metadata": {},
   "source": [
    "## Training Part"
   ]
  },
  {
   "cell_type": "code",
   "execution_count": 42,
   "metadata": {},
   "outputs": [
    {
     "name": "stdout",
     "output_type": "stream",
     "text": [
      "Dataset loaded. Building dataset indexing...\n",
      "Done.\n"
     ]
    }
   ],
   "source": [
    "TRAIN_DATASET_PATH = \"/home/cagan/dev/datasets/C-SWM/shapes_train.h5\"\n",
    "TRAIN_BATCH_SIZE = 1024\n",
    "dtrn = buildStateTransitionDataset(TRAIN_DATASET_PATH, true, TRAIN_BATCH_SIZE);"
   ]
  },
  {
   "cell_type": "code",
   "execution_count": 43,
   "metadata": {},
   "outputs": [
    {
     "data": {
      "text/plain": [
       "(K32(50,50,3,1024)[0.0⋯], [9, 3, 3, 13, 3, 16, 20, 8, 20, 8  …  18, 18, 19, 3, 6, 14, 5, 1, 20, 10], K32(50,50,3,1024)[0.0⋯])"
      ]
     },
     "execution_count": 43,
     "metadata": {},
     "output_type": "execute_result"
    }
   ],
   "source": [
    "obs, action, next_obs = first(dtrn)"
   ]
  },
  {
   "cell_type": "code",
   "execution_count": 44,
   "metadata": {},
   "outputs": [],
   "source": [
    "s = model.obj_extractor(obs);"
   ]
  },
  {
   "cell_type": "code",
   "execution_count": 45,
   "metadata": {},
   "outputs": [
    {
     "data": {
      "text/plain": [
       "2×5×1024 KnetArray{Float32,3}:\n",
       "[:, :, 1] =\n",
       " 0.529608  0.526878  0.538434  0.532567  0.532921\n",
       " 0.689851  0.650228  0.699094  0.662352  0.660854\n",
       "\n",
       "[:, :, 2] =\n",
       " 0.514406  0.490889  0.551916  0.527977  0.509689\n",
       " 0.700593  0.649146  0.708859  0.675238  0.67035 \n",
       "\n",
       "[:, :, 3] =\n",
       " 0.570579  0.506215  0.568469  0.516262  0.52698 \n",
       " 0.718746  0.651417  0.709324  0.676492  0.672193\n",
       "\n",
       "...\n",
       "\n",
       "[:, :, 1022] =\n",
       " 0.513028  0.576044  0.512759  0.557381  0.564003\n",
       " 0.640903  0.721222  0.642544  0.685149  0.709116\n",
       "\n",
       "[:, :, 1023] =\n",
       " 0.539897  0.55011   0.52866   0.523404  0.559933\n",
       " 0.674866  0.693411  0.679383  0.674325  0.704763\n",
       "\n",
       "[:, :, 1024] =\n",
       " 0.519916  0.515605  0.537421  0.516599  0.529854\n",
       " 0.669387  0.681358  0.678635  0.650738  0.695294"
      ]
     },
     "execution_count": 45,
     "metadata": {},
     "output_type": "execute_result"
    }
   ],
   "source": [
    "e = model.obj_encoder(s)"
   ]
  },
  {
   "cell_type": "code",
   "execution_count": 46,
   "metadata": {},
   "outputs": [
    {
     "data": {
      "text/plain": [
       "initopt! (generic function with 1 method)"
      ]
     },
     "execution_count": 46,
     "metadata": {},
     "output_type": "execute_result"
    }
   ],
   "source": [
    "function initopt!(model::ContrastiveSWM)\n",
    "    \n",
    "    for par in params(model)\n",
    "        par.opt = Adam(;lr=0.005)\n",
    "        println(par)\n",
    "    end\n",
    "end"
   ]
  },
  {
   "cell_type": "code",
   "execution_count": 47,
   "metadata": {},
   "outputs": [
    {
     "name": "stdout",
     "output_type": "stream",
     "text": [
      "P(KnetArray{Float32,4}(10,10,3,32))\n",
      "P(KnetArray{Float32,4}(1,1,32,5))\n",
      "P(KnetArray{Float32,2}(512,25))\n",
      "P(KnetArray{Float32,2}(512,512))\n",
      "P(KnetArray{Float32,2}(2,512))\n",
      "P(KnetArray{Float32,1}(512))\n",
      "P(KnetArray{Float32,1}(512))\n",
      "P(KnetArray{Float32,1}(2))\n",
      "P(KnetArray{Float32,1}(512))\n",
      "P(KnetArray{Float32,1}(512))\n",
      "P(KnetArray{Float32,2}(512,4))\n",
      "P(KnetArray{Float32,2}(512,512))\n",
      "P(KnetArray{Float32,2}(512,512))\n",
      "P(KnetArray{Float32,1}(512))\n",
      "P(KnetArray{Float32,1}(512))\n",
      "P(KnetArray{Float32,1}(512))\n",
      "P(KnetArray{Float32,1}(512))\n",
      "P(KnetArray{Float32,1}(512))\n",
      "P(KnetArray{Float32,2}(512,518))\n",
      "P(KnetArray{Float32,2}(512,512))\n",
      "P(KnetArray{Float32,2}(2,512))\n",
      "P(KnetArray{Float32,1}(512))\n",
      "P(KnetArray{Float32,1}(512))\n",
      "P(KnetArray{Float32,1}(2))\n",
      "P(KnetArray{Float32,1}(512))\n",
      "P(KnetArray{Float32,1}(512))\n"
     ]
    }
   ],
   "source": [
    "initopt!(model)"
   ]
  },
  {
   "cell_type": "code",
   "execution_count": 48,
   "metadata": {},
   "outputs": [
    {
     "name": "stdout",
     "output_type": "stream",
     "text": [
      "Starting training...\n",
      "Epoch: 1, Iter: 20480/100000, Loss: 8.886596e-6\n",
      "Epoch: 1, Iter: 40960/100000, Loss: 1.1911742e-6\n",
      "Epoch: 1, Iter: 61440/100000, Loss: 2.1982966e-7\n",
      "Epoch: 1, Iter: 81920/100000, Loss: 1.0755513e-7\n",
      "Avg loss: 0.0009590856510199726\n",
      "Epoch: 2, Iter: 20480/100000, Loss: 7.105548e-8\n",
      "Epoch: 2, Iter: 40960/100000, Loss: 5.6801078e-8\n",
      "Epoch: 2, Iter: 61440/100000, Loss: 5.125508e-8\n",
      "Epoch: 2, Iter: 81920/100000, Loss: 5.2524427e-8\n",
      "Avg loss: 6.104858056877458e-8\n",
      "Epoch: 3, Iter: 20480/100000, Loss: 4.573629e-8\n",
      "Epoch: 3, Iter: 40960/100000, Loss: 4.0252253e-8\n",
      "Epoch: 3, Iter: 61440/100000, Loss: 3.7990397e-8\n",
      "Epoch: 3, Iter: 81920/100000, Loss: 4.1271853e-8\n",
      "Avg loss: 4.300886461176551e-8\n",
      "Epoch: 4, Iter: 20480/100000, Loss: 3.7364224e-8\n",
      "Epoch: 4, Iter: 40960/100000, Loss: 3.421092e-8\n",
      "Epoch: 4, Iter: 61440/100000, Loss: 3.227399e-8\n",
      "Epoch: 4, Iter: 81920/100000, Loss: 3.5455002e-8\n",
      "Avg loss: 3.582301491412847e-8\n",
      "Epoch: 5, Iter: 20480/100000, Loss: 3.2199114e-8\n",
      "Epoch: 5, Iter: 40960/100000, Loss: 3.0731304e-8\n",
      "Epoch: 5, Iter: 61440/100000, Loss: 2.8596506e-8\n",
      "Epoch: 5, Iter: 81920/100000, Loss: 3.1400788e-8\n",
      "Avg loss: 3.1169686744602616e-8\n",
      "Epoch: 6, Iter: 20480/100000, Loss: 2.8352712e-8\n",
      "Epoch: 6, Iter: 40960/100000, Loss: 2.7848499e-8\n",
      "Epoch: 6, Iter: 61440/100000, Loss: 2.5332984e-8\n",
      "Epoch: 6, Iter: 81920/100000, Loss: 2.7542432e-8\n",
      "Avg loss: 2.7650521780581998e-8\n",
      "Epoch: 7, Iter: 20480/100000, Loss: 2.560313e-8\n",
      "Epoch: 7, Iter: 40960/100000, Loss: 2.554192e-8\n",
      "Epoch: 7, Iter: 61440/100000, Loss: 2.2452163e-8\n",
      "Epoch: 7, Iter: 81920/100000, Loss: 2.4816034e-8\n",
      "Avg loss: 2.4810070680595365e-8\n",
      "Epoch: 8, Iter: 20480/100000, Loss: 2.3698377e-8\n",
      "Epoch: 8, Iter: 40960/100000, Loss: 2.3316787e-8\n",
      "Epoch: 8, Iter: 61440/100000, Loss: 2.033007e-8\n",
      "Epoch: 8, Iter: 81920/100000, Loss: 2.2916872e-8\n",
      "Avg loss: 2.258318473347464e-8\n",
      "Epoch: 9, Iter: 20480/100000, Loss: 2.2266233e-8\n",
      "Epoch: 9, Iter: 40960/100000, Loss: 2.153995e-8\n",
      "Epoch: 9, Iter: 61440/100000, Loss: 1.899872e-8\n",
      "Epoch: 9, Iter: 81920/100000, Loss: 2.1076222e-8\n",
      "Avg loss: 2.0767312946059675e-8\n",
      "Epoch: 10, Iter: 20480/100000, Loss: 2.0537986e-8\n",
      "Epoch: 10, Iter: 40960/100000, Loss: 2.0133559e-8\n",
      "Epoch: 10, Iter: 61440/100000, Loss: 1.7622376e-8\n",
      "Epoch: 10, Iter: 81920/100000, Loss: 1.9527764e-8\n",
      "Avg loss: 1.9209348540235604e-8\n"
     ]
    }
   ],
   "source": [
    "#Verbose after x batches\n",
    "VERBOSE =  20\n",
    "\n",
    "#Define number of epochs\n",
    "NUM_EPOCHS = 10\n",
    "\n",
    "println(\"Starting training...\")\n",
    "\n",
    "for i in 1:NUM_EPOCHS\n",
    "    \n",
    "    avg_loss = 0.0\n",
    "    it = 0\n",
    "    for  (k, (obs, action, next_obs)) in enumerate(dtrn)\n",
    "\n",
    "        #Train by using contrastive loss\n",
    "        J = @diff model(obs,action,next_obs)\n",
    "        \n",
    "        for par in params(model)\n",
    "            g = grad(J, par)\n",
    "            update!(value(par), g, par.opt)\n",
    "        end\n",
    "        \n",
    "        batch_size = size(obs,4)\n",
    "\n",
    "        if k % VERBOSE == 0\n",
    "            \n",
    "            println(\"Epoch: \", i , \", Iter: \" , k*batch_size, \"/\", dtrn.num_steps, \", Loss: \", value(J))\n",
    "\n",
    "        end\n",
    "        \n",
    "        avg_loss += value(J)\n",
    "        it = k\n",
    "        \n",
    "    end\n",
    "    \n",
    "    avg_loss /= it\n",
    "    \n",
    "    println(\"Avg loss: \" , avg_loss)\n",
    "end\n",
    "\n",
    "dtrn = nothing\n",
    "Knet.gc()\n",
    "GC.gc()"
   ]
  },
  {
   "cell_type": "code",
   "execution_count": 49,
   "metadata": {},
   "outputs": [],
   "source": [
    "dtrn = nothing\n",
    "Knet.gc()\n",
    "GC.gc()"
   ]
  },
  {
   "cell_type": "code",
   "execution_count": 50,
   "metadata": {},
   "outputs": [],
   "source": [
    "Knet.save(\"model.jld2\", \"model\", model)"
   ]
  },
  {
   "cell_type": "markdown",
   "metadata": {},
   "source": [
    "## Evaluation"
   ]
  },
  {
   "cell_type": "code",
   "execution_count": 14,
   "metadata": {},
   "outputs": [
    {
     "data": {
      "text/plain": [
       "ContrastiveSWM(EncoderCNNSmall(Param{KnetArray{Float32,4}}[P(KnetArray{Float32,4}(10,10,3,32)), P(KnetArray{Float32,4}(1,1,32,5))], Any[Knet.BNMoments(0.1f0, K32(1,1,32,1)[0.50246775⋯], K32(1,1,32,1)[1.1001533⋯], zeros, ones), K32(64)[1.0⋯]], Knet.sigm, NNlib.relu), EncoderMLP(Param{KnetArray{Float32,2}}[P(KnetArray{Float32,2}(512,25)), P(KnetArray{Float32,2}(512,512)), P(KnetArray{Float32,2}(2,512))], Param{KnetArray{Float32,1}}[P(KnetArray{Float32,1}(512)), P(KnetArray{Float32,1}(512)), P(KnetArray{Float32,1}(2))], LayerNorm(P(KnetArray{Float32,1}(512)), P(KnetArray{Float32,1}(512)), 1.0e-6), NNlib.relu), TransitionGNN(EdgeMLP(Param{KnetArray{Float32,2}}[P(KnetArray{Float32,2}(512,4)), P(KnetArray{Float32,2}(512,512)), P(KnetArray{Float32,2}(512,512))], Param{KnetArray{Float32,1}}[P(KnetArray{Float32,1}(512)), P(KnetArray{Float32,1}(512)), P(KnetArray{Float32,1}(512))], LayerNorm(P(KnetArray{Float32,1}(512)), P(KnetArray{Float32,1}(512)), 1.0e-6), NNlib.relu), NodeMLP(Param{KnetArray{Float32,2}}[P(KnetArray{Float32,2}(512,518)), P(KnetArray{Float32,2}(512,512)), P(KnetArray{Float32,2}(2,512))], Param{KnetArray{Float32,1}}[P(KnetArray{Float32,1}(512)), P(KnetArray{Float32,1}(512)), P(KnetArray{Float32,1}(2))], LayerNorm(P(KnetArray{Float32,1}(512)), P(KnetArray{Float32,1}(512)), 1.0e-6), NNlib.relu), false, false, 4, 2, [1 1 … 5120 5120; 2 3 … 5118 5119], 0), 0.5, 1.0)"
      ]
     },
     "execution_count": 14,
     "metadata": {},
     "output_type": "execute_result"
    }
   ],
   "source": [
    "model = Knet.load(\"model.jld2\", \"model\")"
   ]
  },
  {
   "cell_type": "code",
   "execution_count": 15,
   "metadata": {},
   "outputs": [
    {
     "data": {
      "text/plain": [
       "100"
      ]
     },
     "execution_count": 15,
     "metadata": {},
     "output_type": "execute_result"
    }
   ],
   "source": [
    "#Params\n",
    "EVAL_DATASET_PATH = \"/home/cagan/dev/datasets/C-SWM/shapes_eval.h5\"\n",
    "EVAL_BATCH_SIZE = 100"
   ]
  },
  {
   "cell_type": "code",
   "execution_count": 16,
   "metadata": {},
   "outputs": [],
   "source": [
    "dtst = buildPathDataset(EVAL_DATASET_PATH, EVAL_BATCH_SIZE);"
   ]
  },
  {
   "cell_type": "code",
   "execution_count": 17,
   "metadata": {
    "scrolled": true
   },
   "outputs": [
    {
     "name": "stdout",
     "output_type": "stream",
     "text": [
      "Processed 10 batches\n",
      "Processed 20 batches\n",
      "Processed 30 batches\n",
      "Processed 40 batches\n",
      "Processed 50 batches\n",
      "Processed 60 batches\n",
      "Processed 70 batches\n",
      "Processed 80 batches\n",
      "Processed 90 batches\n",
      "Processed 100 batches\n"
     ]
    },
    {
     "data": {
      "text/plain": [
       "10000×10000 Array{Int64,2}:\n",
       " 4870  9759  6734  9659  6496  1676  …   115  8095  6285  8452  4813  6230\n",
       " 4870  9759  6734  9659  6496  1676      115  8095  6285  8452  4813  6230\n",
       " 4870  9759  6734  9659  6496  1676      115  8095  6285  8452  4813  6230\n",
       " 4870  9759  6734  9659  6496  1676      115  8095  6285  8452  4813  6230\n",
       " 4870  9759  6734  9659  6496  1676     3940  8095  6285  8452  4813  6230\n",
       " 4870  9759  6734  9659  6496  1676  …   115  8095  6285  8452  4813  6230\n",
       " 4870  9759  6734  9659  6496  1676     3940  8095  6285  8452  4813  6230\n",
       " 4870  9759  6734  9659  6496  1676      115  8095  6285  8452  4813  6230\n",
       " 4870  9759  6734  9659  6496  1676      115  8095  6285  8452  4813  6230\n",
       " 4870  9759  6734  9659  6496  1676      115  8095  6285  8452  4813  6230\n",
       " 4870  9759  6734  9659  6496  1676  …   115  8095  6285  8452  4813  6230\n",
       " 4870  9759  6734  9659  6496  1676      115  8095  6285  8452  4813  6230\n",
       " 4870  9759  6734  9659  6496  1676      115  8095  6285  8452  4813  6230\n",
       "    ⋮                             ⋮  ⋱           ⋮                        \n",
       " 4870  9759  6734  9659  6496  1676      115  8095  6285  8452  4813  6230\n",
       " 4870  9759  6734  9659  6496  1676     3940  8095  6285  8452  4813  6230\n",
       " 4870  9759  6734  9659  6496  1676  …   115  8095  6285  8452  4813  6230\n",
       " 4870  9759  6734  9659  6496  1676      115  8095  6285  8452  4813  6230\n",
       " 4870  9759  6734  9659  6496  1676      115  8095  6285  8452  4813  6230\n",
       " 4870  9759  6734  9659  6496  1676     3940  8095  6285  8452  4813  6230\n",
       " 4870  9759  6734  9659  6496  1676     3940  8095  6285  8452  4813  6230\n",
       " 4870  9759  6734  9659  6496  1676  …  3940  8095  6285  8452  4813  6230\n",
       " 4870  9759  6734  9659  6496  1676      115  8095  6285  8452  4813  6230\n",
       " 4870  9759  6734  9659  6496  1676      115  8095  6285  8452  4813  6230\n",
       " 4870  9759  6734  9659  6496  1676      115  8095  6285  8452  4813  6230\n",
       " 4870  9759  6734  9659  6496  1676      115  8095  6285  8452  4813  6230"
      ]
     },
     "execution_count": 17,
     "metadata": {},
     "output_type": "execute_result"
    }
   ],
   "source": [
    "pred_states = Any[]\n",
    "next_states = Any[]\n",
    "\n",
    "num_samples = dtst.dataset_size\n",
    "\n",
    "for  (k, (obs, action, next_obs)) in enumerate(dtst)\n",
    "    \n",
    "    if k % 10 == 0\n",
    "        \n",
    "        println(\"Processed \", k ,\" batches\")\n",
    "        \n",
    "    end\n",
    "    #Obs => (50,50,3,100)\n",
    "    #Next obs => (50,50,3,100)\n",
    "    \n",
    "    pred_state = model(obs,action)\n",
    "    next_state = model(next_obs)\n",
    "    \n",
    "    #Pred-state => (2,5,100)\n",
    "    #Next state => (2,5,100)\n",
    "        \n",
    "    push!(pred_states, Array{Float32}(pred_state))\n",
    "    push!(next_states, Array{Float32}(next_state))\n",
    "    \n",
    "end\n",
    "\n",
    "#Pred state cat => [2,5,10000]\n",
    "#Next state cat => [2,5,10000]\n",
    "pred_states = cat(pred_states...,dims=3)\n",
    "next_states = cat(next_states...,dims=3)\n",
    "    \n",
    "#Flatten object/feature dimensions\n",
    "pred_states = mat(pred_states)  #[10,10000]\n",
    "next_states = mat(next_states)  #[10,10000]\n",
    "\n",
    "#Calculate pairwise distances\n",
    "sizes_1 = (size(pred_states)...,1)\n",
    "sizes_2 = (sizes_1[1], sizes_1[3], sizes_1[2])\n",
    "\n",
    "pred_states = reshape(pred_states, sizes_1)\n",
    "next_states = reshape(next_states, sizes_2)\n",
    "pred_states = repeat(pred_states, outer=[1,1,10000])\n",
    "next_states = repeat(next_states, outer=[1,10000,1])\n",
    "\n",
    "pairwise_distance_matrix = sum((pred_states - next_states).^2, dims=1)[1,:,:]\n",
    "\n",
    "#Augment pairwise distance matrix\n",
    "diag_elements = diag(pairwise_distance_matrix)\n",
    "pairwise_distance_matrix = vcat(pairwise_distance_matrix, diag_elements')\n",
    "\n",
    "\n",
    "labels = ones(num_samples)\n",
    "hits_at_1 = 0\n",
    "\n",
    "indices = []\n",
    "\n",
    "for i=1:10000\n",
    "    \n",
    "    row = pairwise_distance_matrix[i,:]\n",
    "    ind = sortperm(row)\n",
    "    \n",
    "    push!(indices, ind)\n",
    "\n",
    "end\n",
    "\n",
    "indices = vcat(indices'...)"
   ]
  },
  {
   "cell_type": "code",
   "execution_count": 18,
   "metadata": {},
   "outputs": [
    {
     "name": "stdout",
     "output_type": "stream",
     "text": [
      "Hits @ 1: 0.0\n"
     ]
    }
   ],
   "source": [
    "num_matches = sum(labels .== indices[:,1])\n",
    "hits_at_1 += num_matches\n",
    "println(\"Hits @ 1: \", hits_at_1/num_samples)"
   ]
  },
  {
   "cell_type": "code",
   "execution_count": 12,
   "metadata": {},
   "outputs": [
    {
     "name": "stdout",
     "output_type": "stream",
     "text": [
      "MRR: 0.003463678106726192\n"
     ]
    }
   ],
   "source": [
    "mxval, mxindx = findmax(indices .== labels,dims=2)\n",
    "ranks = [ i[2] for i in mxindx ]\n",
    "reciprocal_ranks = 1 ./ranks\n",
    "rr_sum = sum(reciprocal_ranks)\n",
    "println(\"MRR: \", rr_sum/num_samples)"
   ]
  }
 ],
 "metadata": {
  "kernelspec": {
   "display_name": "Julia 1.3.1",
   "language": "julia",
   "name": "julia-1.3"
  },
  "language_info": {
   "file_extension": ".jl",
   "mimetype": "application/julia",
   "name": "julia",
   "version": "1.3.1"
  }
 },
 "nbformat": 4,
 "nbformat_minor": 4
}
