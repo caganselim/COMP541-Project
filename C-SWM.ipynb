{
 "cells": [
  {
   "cell_type": "markdown",
   "metadata": {},
   "source": [
    "# C-SWM "
   ]
  },
  {
   "cell_type": "code",
   "execution_count": 1,
   "metadata": {},
   "outputs": [
    {
     "data": {
      "text/plain": [
       "5"
      ]
     },
     "execution_count": 1,
     "metadata": {},
     "output_type": "execute_result"
    }
   ],
   "source": [
    "#Libs\n",
    "using HDF5\n",
    "using Knet\n",
    "using Statistics: mean,std\n",
    "using Random\n",
    "using LinearAlgebra\n",
    "import Base: iterate, length\n",
    "\n",
    "\n",
    "#Datatype\n",
    "atype=KnetArray{Float32}\n",
    "\n",
    "#Includes\n",
    "include(\"utils.jl\")\n",
    "include(\"layernorm.jl\")\n",
    "include(\"encodercnn.jl\")\n",
    "include(\"encodermlp.jl\")\n",
    "include(\"gnn.jl\")\n",
    "\n",
    "#Params\n",
    "SAVE_FOLDER = \"./checkpoints\"\n",
    "NUM_STEPS = 1\n",
    "TRAIN_DATASET_PATH = \"/home/cagan/dev/datasets/C-SWM/shapes_train.h5\"\n",
    "BATCH_SIZE = 100\n",
    "SEED = 0\n",
    "NUM_OBJECTS = 5"
   ]
  },
  {
   "cell_type": "code",
   "execution_count": 2,
   "metadata": {},
   "outputs": [
    {
     "name": "stdout",
     "output_type": "stream",
     "text": [
      "Dataset loaded. Building dataset indexing...\n",
      "Done.\n"
     ]
    }
   ],
   "source": [
    "dtrn = buildDataset(TRAIN_DATASET_PATH, true, BATCH_SIZE);"
   ]
  },
  {
   "cell_type": "code",
   "execution_count": 30,
   "metadata": {
    "scrolled": true
   },
   "outputs": [
    {
     "name": "stdout",
     "output_type": "stream",
     "text": [
      "(50, 50, 3, 100)\n",
      "(100,)\n",
      "(50, 50, 3, 100)\n"
     ]
    }
   ],
   "source": [
    "obs,action,next_obs = first(dtrn)\n",
    "println(size(obs))\n",
    "println(size(action))\n",
    "println(size(next_obs))"
   ]
  },
  {
   "cell_type": "code",
   "execution_count": 3,
   "metadata": {
    "scrolled": true
   },
   "outputs": [
    {
     "data": {
      "text/plain": [
       "1.0"
      ]
     },
     "execution_count": 3,
     "metadata": {},
     "output_type": "execute_result"
    }
   ],
   "source": [
    "#Params\n",
    "input_ch = 3\n",
    "hidden_dim = 512\n",
    "num_objects = 5\n",
    "embedding_dim = 2\n",
    "action_dim = 4\n",
    "sigma = 0.5\n",
    "hinge = 1.0"
   ]
  },
  {
   "cell_type": "code",
   "execution_count": 4,
   "metadata": {},
   "outputs": [
    {
     "data": {
      "text/plain": [
       "energy (generic function with 1 method)"
      ]
     },
     "execution_count": 4,
     "metadata": {},
     "output_type": "execute_result"
    }
   ],
   "source": [
    "function energy(transition_model, state, action, next_state, trans)\n",
    "    \n",
    "    norm = 0.5 / (sigma^2)\n",
    "    \n",
    "    if trans\n",
    "        \n",
    "        diff = state - next_state\n",
    "        \n",
    "    else\n",
    "        \n",
    "        pred_trans = transition_model(state,action)\n",
    "        diff = state + pred_trans - next_state\n",
    "        \n",
    "    end\n",
    "    \n",
    "    #Diff has shape => (2,5,100)\n",
    "    #Result has shape => (100)\n",
    "    return mean(norm*sum((diff.^2), dims=1),dims=1)\n",
    "    \n",
    "    \n",
    "end"
   ]
  },
  {
   "cell_type": "code",
   "execution_count": 5,
   "metadata": {},
   "outputs": [],
   "source": [
    "mutable struct ContrastiveSWM\n",
    "    \n",
    "    obj_extractor::EncoderCNNSmall\n",
    "    obj_encoder::EncoderMLP\n",
    "    gnn::TransitionGNN\n",
    "    \n",
    "end"
   ]
  },
  {
   "cell_type": "code",
   "execution_count": 6,
   "metadata": {},
   "outputs": [
    {
     "data": {
      "text/plain": [
       "initContrastiveSWMSmall (generic function with 1 method)"
      ]
     },
     "execution_count": 6,
     "metadata": {},
     "output_type": "execute_result"
    }
   ],
   "source": [
    "function initContrastiveSWMSmall()\n",
    "\n",
    "    obj_extractor = initEncoderCNNSmall(input_ch, hidden_dim ÷ 16, num_objects, sigm, relu)\n",
    "    obj_encoder = initEncoderMLP(25, hidden_dim, embedding_dim, num_objects, relu)\n",
    "    gnn = initTransitionGNN(embedding_dim, hidden_dim, action_dim, num_objects, false, false, relu)\n",
    "    \n",
    "    return ContrastiveSWM(obj_extractor, obj_encoder, gnn)\n",
    "    \n",
    "end"
   ]
  },
  {
   "cell_type": "code",
   "execution_count": 7,
   "metadata": {},
   "outputs": [],
   "source": [
    "# Forward propagation with transition\n",
    "function (m::ContrastiveSWM)(obs,action)\n",
    "    \n",
    "    # Extract objects\n",
    "    objs = m.obj_extractor(obs)\n",
    "    \n",
    "    # Obtain embeddings\n",
    "    state = m.obj_encoder(objs)\n",
    "    \n",
    "    #Transition    \n",
    "    out = m.gnn(state,action)\n",
    "    \n",
    "    return out\n",
    "    \n",
    "end"
   ]
  },
  {
   "cell_type": "code",
   "execution_count": 8,
   "metadata": {},
   "outputs": [],
   "source": [
    "# Forward propagation without transition\n",
    "function (m::ContrastiveSWM)(obs)\n",
    "    \n",
    "    # Extract objects\n",
    "    objs = m.obj_extractor(obs)\n",
    "    \n",
    "    # Obtain embeddings\n",
    "    state = m.obj_encoder(objs)\n",
    "    \n",
    "    return out\n",
    "    \n",
    "end"
   ]
  },
  {
   "cell_type": "code",
   "execution_count": 12,
   "metadata": {},
   "outputs": [],
   "source": [
    "# Contrastive loss part\n",
    "function (m::ContrastiveSWM)(obs,action,next_obs)\n",
    "    \n",
    "    # Extract objects\n",
    "    objs = m.obj_extractor(obs)\n",
    "    next_objs = m.obj_extractor(next_obs)\n",
    "    \n",
    "    # Obtain embeddings\n",
    "    state = m.obj_encoder(objs)\n",
    "    next_state = m.obj_encoder(next_objs)\n",
    "     \n",
    "    # Sample negative state across episodes at random\n",
    "    batch_size = size(obs,4)\n",
    "    perm = rand(1:batch_size)\n",
    "    neg_state = state[:,:,perm]\n",
    "    \n",
    "    # Pos loss\n",
    "    pos_loss = energy(m.gnn, state, action, next_state,true)\n",
    "    zero_mat = atype(zeros(size(pos_loss)))\n",
    "    pos_loss = mean(pos_loss)\n",
    "    \n",
    "    # Neg loss\n",
    "    neg_loss = max.(zero_mat, hinge .- energy(m.gnn, state, action,next_state,false))\n",
    "    neg_loss = mean(neg_loss)\n",
    "        \n",
    "    loss = pos_loss + neg_loss  \n",
    "    \n",
    "    return loss\n",
    "    \n",
    "end"
   ]
  },
  {
   "cell_type": "code",
   "execution_count": 13,
   "metadata": {},
   "outputs": [
    {
     "data": {
      "text/plain": [
       "ContrastiveSWM(EncoderCNNSmall(Any[P(KnetArray{Float32,4}(10,10,3,32)), P(KnetArray{Float32,4}(1,1,32,5))], Any[Knet.BNMoments(0.1, nothing, nothing, zeros, ones), K32(64)[1.0⋯]], Knet.sigm, NNlib.relu), EncoderMLP(Param{KnetArray{Float32,2}}[P(KnetArray{Float32,2}(512,25)), P(KnetArray{Float32,2}(512,512)), P(KnetArray{Float32,2}(2,512))], Param{KnetArray{Float32,1}}[P(KnetArray{Float32,1}(512)), P(KnetArray{Float32,1}(512)), P(KnetArray{Float32,1}(2))], LayerNorm(P(KnetArray{Float32,1}(512)), P(KnetArray{Float32,1}(512)), 1.0e-6), NNlib.relu), TransitionGNN(EdgeMLP(Param{KnetArray{Float32,2}}[P(KnetArray{Float32,2}(512,4)), P(KnetArray{Float32,2}(512,512)), P(KnetArray{Float32,2}(512,512))], Param{KnetArray{Float32,1}}[P(KnetArray{Float32,1}(512)), P(KnetArray{Float32,1}(512)), P(KnetArray{Float32,1}(512))], LayerNorm(P(KnetArray{Float32,1}(512)), P(KnetArray{Float32,1}(512)), 1.0e-6), NNlib.relu), NodeMLP(Param{KnetArray{Float32,2}}[P(KnetArray{Float32,2}(512,518)), P(KnetArray{Float32,2}(512,512)), P(KnetArray{Float32,2}(2,512))], Param{KnetArray{Float32,1}}[P(KnetArray{Float32,1}(512)), P(KnetArray{Float32,1}(512)), P(KnetArray{Float32,1}(2))], LayerNorm(P(KnetArray{Float32,1}(512)), P(KnetArray{Float32,1}(512)), 1.0e-6), NNlib.relu), false, false, 4, 2, nothing, 0))"
      ]
     },
     "execution_count": 13,
     "metadata": {},
     "output_type": "execute_result"
    }
   ],
   "source": [
    "model = initContrastiveSWMSmall()"
   ]
  },
  {
   "cell_type": "markdown",
   "metadata": {},
   "source": [
    "## Training"
   ]
  },
  {
   "cell_type": "code",
   "execution_count": 14,
   "metadata": {},
   "outputs": [
    {
     "name": "stdout",
     "output_type": "stream",
     "text": [
      "0.0001252732\n",
      "0.00012831422\n",
      "8.59368e-5\n",
      "0.00013691901\n",
      "0.0001533839\n",
      "0.0001274361\n",
      "0.00014394532\n",
      "8.6288426e-5\n",
      "0.000115543015\n",
      "0.0001311372\n"
     ]
    },
    {
     "name": "stderr",
     "output_type": "stream",
     "text": [
      "error in running finalizer: InterruptException()\n"
     ]
    },
    {
     "ename": "InterruptException",
     "evalue": "InterruptException:",
     "output_type": "error",
     "traceback": [
      "InterruptException:",
      "",
      "Stacktrace:",
      " [1] CuArray at /home/cagan/.julia/packages/CuArrays/1njKF/src/array.jl:15 [inlined]",
      " [2] #_#10 at /home/cagan/.julia/packages/CuArrays/1njKF/src/array.jl:22 [inlined]",
      " [3] CuArray at /home/cagan/.julia/packages/CuArrays/1njKF/src/array.jl:22 [inlined] (repeats 2 times)",
      " [4] CuArrays.CuArray{UInt8,1,P} where P(::UndefInitializer, ::Tuple{Int64}) at /home/cagan/.julia/packages/CuArrays/1njKF/src/array.jl:93",
      " [5] CuArray at /home/cagan/.julia/packages/CuArrays/1njKF/src/array.jl:100 [inlined]",
      " [6] CuArray at /home/cagan/.julia/packages/CuArrays/1njKF/src/array.jl:101 [inlined]",
      " [7] KnetPtrCu(::Int64) at /home/cagan/.julia/dev/Knet/src/cuarray.jl:90",
      " [8] KnetPtr at /home/cagan/.julia/dev/Knet/src/kptr.jl:102 [inlined]",
      " [9] KnetArray at /home/cagan/.julia/dev/Knet/src/karray.jl:82 [inlined]",
      " [10] similar at /home/cagan/.julia/dev/Knet/src/karray.jl:164 [inlined]",
      " [11] similar at /home/cagan/.julia/dev/Knet/src/karray.jl:167 [inlined]",
      " [12] broadcasted(::typeof(+), ::KnetArray{Float32,1}, ::KnetArray{Float32,1}) at /home/cagan/.julia/dev/Knet/src/binary.jl:37",
      " [13] +(::KnetArray{Float32,1}, ::KnetArray{Float32,1}) at /home/cagan/.julia/dev/Knet/src/binary.jl:232",
      " [14] unsorted_segment_sum(::KnetArray{Float32,2}, ::Array{Int64,1}, ::Int64) at /home/cagan/dev/kucomp/comp541/COMP541-Project/gnn.jl:24",
      " [15] node_model(::NodeMLP, ::KnetArray{Float32,2}, ::Adjoint{Int64,Array{Int64,2}}, ::KnetArray{Float32,2}) at /home/cagan/dev/kucomp/comp541/COMP541-Project/gnn.jl:150",
      " [16] (::TransitionGNN)(::KnetArray{Float32,3}, ::Array{Int64,1}) at /home/cagan/dev/kucomp/comp541/COMP541-Project/gnn.jl:253",
      " [17] energy(::TransitionGNN, ::KnetArray{Float32,3}, ::Array{Int64,1}, ::KnetArray{Float32,3}, ::Bool) at ./In[4]:11",
      " [18] (::ContrastiveSWM)(::KnetArray{Float32,4}, ::Array{Int64,1}, ::KnetArray{Float32,4}) at ./In[12]:23",
      " [19] top-level scope at In[14]:7"
     ]
    }
   ],
   "source": [
    "NUM_ITER = 10000\n",
    "VERBOSE =  100\n",
    "\n",
    "for  (k, (obs, action, next_obs)) in enumerate(dtrn)\n",
    "    \n",
    "    #Train by using contrastive loss\n",
    "    loss = model(obs,action,next_obs)\n",
    "    \n",
    "    J = @diff loss \n",
    "    for par in params(model)\n",
    "        g = grad(J, par)\n",
    "        update!(value(par), g, par.opt)\n",
    "    end\n",
    "    \n",
    "    if k % VERBOSE == 0\n",
    "       \n",
    "        println(loss)\n",
    "        \n",
    "    end\n",
    "    \n",
    "    if k > NUM_ITER\n",
    "        break\n",
    "    end\n",
    "    \n",
    "        \n",
    "end"
   ]
  },
  {
   "cell_type": "markdown",
   "metadata": {},
   "source": [
    "## Evaluation"
   ]
  },
  {
   "cell_type": "code",
   "execution_count": null,
   "metadata": {},
   "outputs": [],
   "source": []
  }
 ],
 "metadata": {
  "kernelspec": {
   "display_name": "Julia 1.3.1",
   "language": "julia",
   "name": "julia-1.3"
  },
  "language_info": {
   "file_extension": ".jl",
   "mimetype": "application/julia",
   "name": "julia",
   "version": "1.3.1"
  }
 },
 "nbformat": 4,
 "nbformat_minor": 4
}
