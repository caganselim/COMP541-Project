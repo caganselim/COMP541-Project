{
 "cells": [
  {
   "cell_type": "markdown",
   "metadata": {},
   "source": [
    "# C-SWM Baseline Model"
   ]
  },
  {
   "cell_type": "markdown",
   "metadata": {},
   "source": [
    "I have prepared this notebook to demonstrate data loading, batching, testing operations. I will compile them at a seperate utils.jl file."
   ]
  },
  {
   "cell_type": "code",
   "execution_count": 1,
   "metadata": {},
   "outputs": [],
   "source": [
    "using HDF5\n",
    "using Knet\n",
    "using Statistics: mean\n",
    "using Random"
   ]
  },
  {
   "cell_type": "code",
   "execution_count": 2,
   "metadata": {},
   "outputs": [
    {
     "data": {
      "text/plain": [
       "5"
      ]
     },
     "execution_count": 2,
     "metadata": {},
     "output_type": "execute_result"
    }
   ],
   "source": [
    "atype = KnetArray{Float32}\n",
    "\n",
    "SAVE_FOLDER = \"./checkpoints\"\n",
    "NUM_STEPS = 1\n",
    "TRAIN_DATASET_PATH = \"/home/cagan/dev/datasets/C-SWM/shapes_train.h5\"\n",
    "BATCH_SIZE = 100\n",
    "SEED = 0\n",
    "NUM_OBJECTS = 5"
   ]
  },
  {
   "cell_type": "code",
   "execution_count": 3,
   "metadata": {
    "scrolled": true
   },
   "outputs": [
    {
     "data": {
      "text/plain": [
       "loadh5file (generic function with 1 method)"
      ]
     },
     "execution_count": 3,
     "metadata": {},
     "output_type": "execute_result"
    }
   ],
   "source": [
    "function loadh5file(DATASET_PATH)\n",
    "    f_e = h5open(DATASET_PATH,\"r\")\n",
    "    dict = read(f_e)\n",
    "    close(f_e)\n",
    "    return dict\n",
    "end"
   ]
  },
  {
   "cell_type": "code",
   "execution_count": 4,
   "metadata": {},
   "outputs": [],
   "source": [
    "struct StateTransitionDataset\n",
    "    \"\"\"Create dataset of (o_t, a_t, o_{t+1}) transitions from replay buffer.\"\"\"\n",
    "   \n",
    "    experience_buffer;\n",
    "    # Build table for conversion between linear idx -> episode/step idx\n",
    "    idx2episode;\n",
    "    \n",
    "    #Container to hold total number of steps\n",
    "    num_steps;\n",
    "    \n",
    "    #Read array\n",
    "    batch_idxs;\n",
    "    \n",
    "end"
   ]
  },
  {
   "cell_type": "code",
   "execution_count": 5,
   "metadata": {},
   "outputs": [
    {
     "data": {
      "text/plain": [
       "buildDataset (generic function with 1 method)"
      ]
     },
     "execution_count": 5,
     "metadata": {},
     "output_type": "execute_result"
    }
   ],
   "source": [
    "function buildDataset(DATASET_PATH, d_shuffle)\n",
    "    \n",
    "    experience_buffer = loadh5file(DATASET_PATH)   \n",
    "    step = 0\n",
    "    \n",
    "    println(\"Dataset loaded. Building dataset indexing.\")\n",
    "    \n",
    "    idx2episode = []\n",
    "    \n",
    "    \n",
    "    for ep in 1:length(experience_buffer)\n",
    "        \n",
    "        ep_key = string(ep-1)\n",
    "        num_steps = length(experience_buffer[ep_key][\"action\"])\n",
    "        \n",
    "        for i in 1:num_steps\n",
    "           \n",
    "            push!(idx2episode,(ep_key,i))\n",
    "            \n",
    "        end \n",
    "        \n",
    "        step += num_steps\n",
    "        \n",
    "    end\n",
    "         \n",
    "    batch_idxs = collect(1:step)\n",
    "    \n",
    "    if d_shuffle\n",
    "        batch_idxs = shuffle(batch_idxs)\n",
    "    end\n",
    "        \n",
    "    \n",
    "    return  StateTransitionDataset(experience_buffer,idx2episode,step, batch_idxs)\n",
    "    \n",
    "end"
   ]
  },
  {
   "cell_type": "code",
   "execution_count": 6,
   "metadata": {
    "scrolled": true
   },
   "outputs": [
    {
     "name": "stdout",
     "output_type": "stream",
     "text": [
      "Dataset loaded. Building dataset indexing.\n"
     ]
    }
   ],
   "source": [
    "dtrn = buildDataset(TRAIN_DATASET_PATH,true);"
   ]
  },
  {
   "cell_type": "code",
   "execution_count": 7,
   "metadata": {},
   "outputs": [
    {
     "data": {
      "text/plain": [
       "1000"
      ]
     },
     "execution_count": 7,
     "metadata": {},
     "output_type": "execute_result"
    }
   ],
   "source": [
    "TOTAL_SET_SIZE = dtrn.num_steps\n",
    "net_threshold = TOTAL_SET_SIZE ÷ BATCH_SIZE"
   ]
  },
  {
   "cell_type": "code",
   "execution_count": 8,
   "metadata": {
    "scrolled": true
   },
   "outputs": [],
   "source": [
    "function getitem(s,idx)\n",
    "    \n",
    "    ep_key, step = s.idx2episode[idx]\n",
    "    obs = s.experience_buffer[ep_key][\"obs\"][:,:,:,step]\n",
    "    action = s.experience_buffer[ep_key][\"action\"][step]\n",
    "    next_obs = s.experience_buffer[ep_key][\"next_obs\"][:,:,:,step]\n",
    "    \n",
    "    return obs,action,next_obs\n",
    "    \n",
    "end\n",
    "\n",
    "(s::StateTransitionDataset)(idx) = getitem(s,idx)"
   ]
  },
  {
   "cell_type": "code",
   "execution_count": 9,
   "metadata": {},
   "outputs": [
    {
     "data": {
      "text/plain": [
       "prepareBatch (generic function with 1 method)"
      ]
     },
     "execution_count": 9,
     "metadata": {},
     "output_type": "execute_result"
    }
   ],
   "source": [
    "function prepareBatch(s,idx_1, idx_2)\n",
    "    \"\"\"Lazy loader to GPU.\"\"\"\n",
    "    \n",
    "    minibatch = s.batch_idxs[idx_1:idx_2]\n",
    "    minibatch_batch_size = size(minibatch,1)\n",
    "    \n",
    "    #Read\n",
    "    b_obs = zeros(minibatch_batch_size,3,50,50)\n",
    "    b_next_obs = zeros(minibatch_batch_size,3,50,50)\n",
    "    b_action = zeros(minibatch_batch_size)\n",
    "    \n",
    "    for i in 1:length(minibatch_batch_size)\n",
    "        \n",
    "        idx = minibatch[i]\n",
    "        obs, action, next_obs = s(idx) \n",
    "        \n",
    "        #Insert obs\n",
    "        obs = permutedims(obs, [3, 1, 2])\n",
    "        b_obs[i,:,:,:] = reshape(obs, (1,size(obs)...))\n",
    "        \n",
    "        #Assign action\n",
    "        b_action[i] = action\n",
    "        \n",
    "        #Insert next_obs\n",
    "        next_obs = permutedims(next_obs, [3, 1, 2])\n",
    "        b_next_obs[i,:,:,:] = reshape(next_obs, (1,size(obs)...))\n",
    "        \n",
    "    end\n",
    "    \n",
    "    return atype(b_obs), b_action, atype(b_next_obs)\n",
    "    \n",
    "end"
   ]
  },
  {
   "cell_type": "code",
   "execution_count": 10,
   "metadata": {},
   "outputs": [
    {
     "data": {
      "text/plain": [
       "batchIdxHelper (generic function with 1 method)"
      ]
     },
     "execution_count": 10,
     "metadata": {},
     "output_type": "execute_result"
    }
   ],
   "source": [
    "function batchIdxHelper(batch_idx)\n",
    "\n",
    "    net_threshold = TOTAL_SET_SIZE ÷ BATCH_SIZE\n",
    "    remainder = TOTAL_SET_SIZE % BATCH_SIZE\n",
    "    \n",
    "    idx_1 = -1\n",
    "    idx_2 = -1\n",
    "    \n",
    "    if batch_idx <= net_threshold\n",
    "        \n",
    "        idx_1 = 1 + BATCH_SIZE*(batch_idx-1)\n",
    "        idx_2 = BATCH_SIZE*batch_idx\n",
    "        \n",
    "    elseif batch_idx == net_threshold\n",
    "        \n",
    "        idx_1 = 1 + BATCH_SIZE*(batch_idx-1)\n",
    "        idx_2 = TOTAL_SET_SIZE\n",
    "        \n",
    "    end\n",
    "\n",
    "    return idx_1, idx_2\n",
    "    \n",
    "end"
   ]
  },
  {
   "cell_type": "code",
   "execution_count": 11,
   "metadata": {},
   "outputs": [
    {
     "data": {
      "text/plain": [
       "(99901, 100000)"
      ]
     },
     "execution_count": 11,
     "metadata": {},
     "output_type": "execute_result"
    }
   ],
   "source": [
    "idx_1, idx_2 = batchIdxHelper(1000)"
   ]
  },
  {
   "cell_type": "code",
   "execution_count": 12,
   "metadata": {},
   "outputs": [],
   "source": [
    "obs, b_action, next_obs = prepareBatch(dtrn,idx_1,idx_2);"
   ]
  },
  {
   "cell_type": "code",
   "execution_count": 13,
   "metadata": {},
   "outputs": [
    {
     "name": "stdout",
     "output_type": "stream",
     "text": [
      "(100, 3, 50, 50)\n",
      "(100,)\n",
      "(100, 3, 50, 50)\n"
     ]
    }
   ],
   "source": [
    "println(size(obs))\n",
    "println(size(b_action))\n",
    "println(size(next_obs))"
   ]
  },
  {
   "cell_type": "code",
   "execution_count": 14,
   "metadata": {},
   "outputs": [
    {
     "data": {
      "text/plain": [
       "getBatch (generic function with 1 method)"
      ]
     },
     "execution_count": 14,
     "metadata": {},
     "output_type": "execute_result"
    }
   ],
   "source": [
    "function getBatch(dataset,idx)\n",
    "    \n",
    "    idx_1, idx_2 = batchIdxHelper(idx)\n",
    "    \n",
    "    if idx_1 == -1 && idx_2 == -1\n",
    "    \n",
    "        println(\"Invalid batch index\") \n",
    "        return\n",
    "        \n",
    "    end\n",
    "    \n",
    "    obs, action, next_obs = prepareBatch(dataset,idx_1,idx_2)\n",
    "    \n",
    "    return obs, action, next_obs\n",
    "end"
   ]
  },
  {
   "cell_type": "code",
   "execution_count": 15,
   "metadata": {},
   "outputs": [
    {
     "data": {
      "text/plain": [
       "(K32(100,3,50,50)[0.0⋯], [11.0, 0.0, 0.0, 0.0, 0.0, 0.0, 0.0, 0.0, 0.0, 0.0  …  0.0, 0.0, 0.0, 0.0, 0.0, 0.0, 0.0, 0.0, 0.0, 0.0], K32(100,3,50,50)[0.0⋯])"
      ]
     },
     "execution_count": 15,
     "metadata": {},
     "output_type": "execute_result"
    }
   ],
   "source": [
    "obs, action, next_obs = getBatch(dtrn,1)"
   ]
  },
  {
   "cell_type": "code",
   "execution_count": 16,
   "metadata": {
    "scrolled": true
   },
   "outputs": [
    {
     "name": "stdout",
     "output_type": "stream",
     "text": [
      "(100, 3, 50, 50)\n",
      "(100,)\n",
      "(100, 3, 50, 50)\n"
     ]
    }
   ],
   "source": [
    "println(size(obs))\n",
    "println(size(b_action))\n",
    "println(size(next_obs))"
   ]
  },
  {
   "cell_type": "markdown",
   "metadata": {},
   "source": [
    "# ConvNet"
   ]
  },
  {
   "cell_type": "markdown",
   "metadata": {},
   "source": [
    "I have get a ConvNet from examples as a baseline."
   ]
  },
  {
   "cell_type": "code",
   "execution_count": 23,
   "metadata": {
    "scrolled": false
   },
   "outputs": [],
   "source": [
    "frame_diff = next_obs - obs;"
   ]
  },
  {
   "cell_type": "code",
   "execution_count": 25,
   "metadata": {},
   "outputs": [],
   "source": [
    "# define model\n",
    "function initmodel(; atype=KnetArray, dtype=Float32, winit=xavier, binit=zeros)\n",
    "    w(dims...)=atype(winit(dtype,dims...))\n",
    "    b(dims...)=atype(binit(dtype,dims...))\n",
    "    return Any[\n",
    "        w(3,3,3,50), b(1,1,50,1),\n",
    "        w(3,3,50,50), b(1,1,50,1),\n",
    "        w(3,3,50,100), b(1,1,100,1),\n",
    "        w(3,3,100,100), b(1,1,100,1),\n",
    "        w(512,6400), b(512,1),\n",
    "        w(20,512), b(20,1)\n",
    "    ]\n",
    "end;"
   ]
  },
  {
   "cell_type": "code",
   "execution_count": 26,
   "metadata": {},
   "outputs": [],
   "source": [
    "# define loss and its gradient\n",
    "function predict(w,x; pdrop=(0,0))\n",
    "    convbias(x,w,b) = conv4(w,x;padding=1) .+ b\n",
    "    fc(x,w,b) = w * mat(x) .+ b;\n",
    "    x = relu.(convbias(x,w[1],w[2]))\n",
    "    x = relu.(pool(convbias(x,w[3],w[4])))\n",
    "    x = dropout(x,pdrop[1])\n",
    "    x = relu.(convbias(x,w[5],w[6]))\n",
    "    x = relu.(pool(convbias(x,w[7],w[8])))\n",
    "    x = dropout(x,pdrop[1])\n",
    "    x = relu.(fc(x,w[9],w[10]))\n",
    "    x = dropout(x,pdrop[2])\n",
    "    return fc(x,w[11],w[12])\n",
    "end\n",
    "\n",
    "loss(w,x,y;o...)=nll(predict(w,x;o...),y) # nll: negative log likelihood\n",
    "lossgradient = grad(loss);"
   ]
  },
  {
   "cell_type": "code",
   "execution_count": 27,
   "metadata": {
    "scrolled": true
   },
   "outputs": [
    {
     "data": {
      "text/plain": [
       "12-element Array{Any,1}:\n",
       " K32(3,3,3,50)[0.08358852⋯]     \n",
       " K32(1,1,50,1)[0.0⋯]            \n",
       " K32(3,3,50,50)[-0.05785168⋯]   \n",
       " K32(1,1,50,1)[0.0⋯]            \n",
       " K32(3,3,50,100)[-0.05171234⋯]  \n",
       " K32(1,1,100,1)[0.0⋯]           \n",
       " K32(3,3,100,100)[-0.035115782⋯]\n",
       " K32(1,1,100,1)[0.0⋯]           \n",
       " K32(512,6400)[0.0017206036⋯]   \n",
       " K32(512,1)[0.0⋯]               \n",
       " K32(20,512)[-0.051471993⋯]     \n",
       " K32(20,1)[0.0⋯]                "
      ]
     },
     "execution_count": 27,
     "metadata": {},
     "output_type": "execute_result"
    }
   ],
   "source": [
    "# prepare for training\n",
    "model = optim = nothing; Knet.gc() # Clear memory from last run\n",
    "model = initmodel()"
   ]
  },
  {
   "cell_type": "code",
   "execution_count": 34,
   "metadata": {},
   "outputs": [
    {
     "data": {
      "text/plain": [
       "toOneHot (generic function with 1 method)"
      ]
     },
     "execution_count": 34,
     "metadata": {},
     "output_type": "execute_result"
    }
   ],
   "source": [
    "function toOneHot(action_dim, idx)\n",
    "   \n",
    "    vec = zeros(action_dim)\n",
    "    \n",
    "    vec[idx] = 1.0\n",
    "    \n",
    "    return atype(vec)\n",
    "    \n",
    "end"
   ]
  },
  {
   "cell_type": "code",
   "execution_count": 36,
   "metadata": {},
   "outputs": [
    {
     "data": {
      "text/plain": [
       "20-element KnetArray{Float32,1}:\n",
       " 0.0\n",
       " 0.0\n",
       " 1.0\n",
       " 0.0\n",
       " 0.0\n",
       " 0.0\n",
       " 0.0\n",
       " 0.0\n",
       " 0.0\n",
       " 0.0\n",
       " 0.0\n",
       " 0.0\n",
       " 0.0\n",
       " 0.0\n",
       " 0.0\n",
       " 0.0\n",
       " 0.0\n",
       " 0.0\n",
       " 0.0\n",
       " 0.0"
      ]
     },
     "execution_count": 36,
     "metadata": {},
     "output_type": "execute_result"
    }
   ],
   "source": [
    "toOneHot(20,3)"
   ]
  },
  {
   "cell_type": "code",
   "execution_count": null,
   "metadata": {},
   "outputs": [],
   "source": []
  }
 ],
 "metadata": {
  "kernelspec": {
   "display_name": "Julia 1.3.1",
   "language": "julia",
   "name": "julia-1.3"
  },
  "language_info": {
   "file_extension": ".jl",
   "mimetype": "application/julia",
   "name": "julia",
   "version": "1.3.1"
  }
 },
 "nbformat": 4,
 "nbformat_minor": 2
}
